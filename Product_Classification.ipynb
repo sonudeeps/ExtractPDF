{
 "cells": [
  {
   "cell_type": "code",
   "execution_count": 125,
   "id": "cf369dcc-2511-47ec-9920-35e6e54d0e15",
   "metadata": {},
   "outputs": [],
   "source": [
    "import pandas as pd\n",
    "from sklearn.model_selection import train_test_split, GridSearchCV, RandomizedSearchCV\n",
    "from sklearn.ensemble import RandomForestClassifier, VotingClassifier\n",
    "from sklearn.metrics import accuracy_score, classification_report, confusion_matrix"
   ]
  },
  {
   "cell_type": "code",
   "execution_count": 93,
   "id": "a14d89d9-212c-499d-ae77-2ff7181c7fa7",
   "metadata": {},
   "outputs": [],
   "source": [
    "df = pd.read_excel(r'C:\\Users\\pawvaibh\\Downloads\\product classification.xlsx')\n",
    "df1=df.copy()"
   ]
  },
  {
   "cell_type": "code",
   "execution_count": 94,
   "id": "5e97fa0d-06ab-482b-b62e-e5a04c796c60",
   "metadata": {},
   "outputs": [
    {
     "data": {
      "text/html": [
       "<div>\n",
       "<style scoped>\n",
       "    .dataframe tbody tr th:only-of-type {\n",
       "        vertical-align: middle;\n",
       "    }\n",
       "\n",
       "    .dataframe tbody tr th {\n",
       "        vertical-align: top;\n",
       "    }\n",
       "\n",
       "    .dataframe thead th {\n",
       "        text-align: right;\n",
       "    }\n",
       "</style>\n",
       "<table border=\"1\" class=\"dataframe\">\n",
       "  <thead>\n",
       "    <tr style=\"text-align: right;\">\n",
       "      <th></th>\n",
       "      <th>CustomerId</th>\n",
       "      <th>CustomerName</th>\n",
       "      <th>ProductId</th>\n",
       "      <th>ProductName</th>\n",
       "      <th>SterilizationMethodId</th>\n",
       "      <th>SterilizationMethodName</th>\n",
       "      <th>MachineTypeId</th>\n",
       "      <th>MachineTypeName</th>\n",
       "      <th>ItemTypeId</th>\n",
       "      <th>ItemTypeName</th>\n",
       "      <th>SpecialtyId</th>\n",
       "      <th>SpecialtyName</th>\n",
       "      <th>CategoryName</th>\n",
       "    </tr>\n",
       "  </thead>\n",
       "  <tbody>\n",
       "    <tr>\n",
       "      <th>0</th>\n",
       "      <td>3878</td>\n",
       "      <td>GLEN COVE HOSPITAL</td>\n",
       "      <td>10261</td>\n",
       "      <td>GLE-ENDODONTIC SETUP</td>\n",
       "      <td>26</td>\n",
       "      <td>Pre-Vac 270F 4min 30min Dry</td>\n",
       "      <td>2</td>\n",
       "      <td>Washer</td>\n",
       "      <td>4</td>\n",
       "      <td>Tray</td>\n",
       "      <td>31</td>\n",
       "      <td>Dental</td>\n",
       "      <td>Flexible Scope</td>\n",
       "    </tr>\n",
       "    <tr>\n",
       "      <th>1</th>\n",
       "      <td>3878</td>\n",
       "      <td>GLEN COVE HOSPITAL</td>\n",
       "      <td>10261</td>\n",
       "      <td>GLE-ENDODONTIC SETUP</td>\n",
       "      <td>26</td>\n",
       "      <td>Pre-Vac 270F 4min 30min Dry</td>\n",
       "      <td>2</td>\n",
       "      <td>Washer</td>\n",
       "      <td>4</td>\n",
       "      <td>Tray</td>\n",
       "      <td>31</td>\n",
       "      <td>Dental</td>\n",
       "      <td>Flexible Scope</td>\n",
       "    </tr>\n",
       "    <tr>\n",
       "      <th>2</th>\n",
       "      <td>3878</td>\n",
       "      <td>GLEN COVE HOSPITAL</td>\n",
       "      <td>10261</td>\n",
       "      <td>GLE-ENDODONTIC SETUP</td>\n",
       "      <td>26</td>\n",
       "      <td>Pre-Vac 270F 4min 30min Dry</td>\n",
       "      <td>2</td>\n",
       "      <td>Washer</td>\n",
       "      <td>4</td>\n",
       "      <td>Tray</td>\n",
       "      <td>31</td>\n",
       "      <td>Dental</td>\n",
       "      <td>Flexible Scope</td>\n",
       "    </tr>\n",
       "    <tr>\n",
       "      <th>3</th>\n",
       "      <td>3878</td>\n",
       "      <td>GLEN COVE HOSPITAL</td>\n",
       "      <td>10261</td>\n",
       "      <td>GLE-ENDODONTIC SETUP</td>\n",
       "      <td>26</td>\n",
       "      <td>Pre-Vac 270F 4min 30min Dry</td>\n",
       "      <td>2</td>\n",
       "      <td>Washer</td>\n",
       "      <td>4</td>\n",
       "      <td>Tray</td>\n",
       "      <td>31</td>\n",
       "      <td>Dental</td>\n",
       "      <td>Flexible Scope</td>\n",
       "    </tr>\n",
       "    <tr>\n",
       "      <th>4</th>\n",
       "      <td>3878</td>\n",
       "      <td>GLEN COVE HOSPITAL</td>\n",
       "      <td>10261</td>\n",
       "      <td>GLE-ENDODONTIC SETUP</td>\n",
       "      <td>26</td>\n",
       "      <td>Pre-Vac 270F 4min 30min Dry</td>\n",
       "      <td>2</td>\n",
       "      <td>Washer</td>\n",
       "      <td>4</td>\n",
       "      <td>Tray</td>\n",
       "      <td>31</td>\n",
       "      <td>Dental</td>\n",
       "      <td>Flexible Scope</td>\n",
       "    </tr>\n",
       "  </tbody>\n",
       "</table>\n",
       "</div>"
      ],
      "text/plain": [
       "   CustomerId        CustomerName  ProductId           ProductName  \\\n",
       "0        3878  GLEN COVE HOSPITAL      10261  GLE-ENDODONTIC SETUP   \n",
       "1        3878  GLEN COVE HOSPITAL      10261  GLE-ENDODONTIC SETUP   \n",
       "2        3878  GLEN COVE HOSPITAL      10261  GLE-ENDODONTIC SETUP   \n",
       "3        3878  GLEN COVE HOSPITAL      10261  GLE-ENDODONTIC SETUP   \n",
       "4        3878  GLEN COVE HOSPITAL      10261  GLE-ENDODONTIC SETUP   \n",
       "\n",
       "   SterilizationMethodId      SterilizationMethodName  MachineTypeId  \\\n",
       "0                     26  Pre-Vac 270F 4min 30min Dry              2   \n",
       "1                     26  Pre-Vac 270F 4min 30min Dry              2   \n",
       "2                     26  Pre-Vac 270F 4min 30min Dry              2   \n",
       "3                     26  Pre-Vac 270F 4min 30min Dry              2   \n",
       "4                     26  Pre-Vac 270F 4min 30min Dry              2   \n",
       "\n",
       "  MachineTypeName  ItemTypeId ItemTypeName  SpecialtyId SpecialtyName  \\\n",
       "0          Washer           4         Tray           31        Dental   \n",
       "1          Washer           4         Tray           31        Dental   \n",
       "2          Washer           4         Tray           31        Dental   \n",
       "3          Washer           4         Tray           31        Dental   \n",
       "4          Washer           4         Tray           31        Dental   \n",
       "\n",
       "     CategoryName  \n",
       "0  Flexible Scope  \n",
       "1  Flexible Scope  \n",
       "2  Flexible Scope  \n",
       "3  Flexible Scope  \n",
       "4  Flexible Scope  "
      ]
     },
     "execution_count": 94,
     "metadata": {},
     "output_type": "execute_result"
    }
   ],
   "source": [
    "df.head()"
   ]
  },
  {
   "cell_type": "code",
   "execution_count": 95,
   "id": "27944425-b9f2-4a1e-acd6-8ab0fa016aad",
   "metadata": {},
   "outputs": [],
   "source": [
    "df.drop_duplicates(inplace=True)"
   ]
  },
  {
   "cell_type": "code",
   "execution_count": 96,
   "id": "d00fa76e-0fd2-4985-9786-342a0517e5c2",
   "metadata": {},
   "outputs": [
    {
     "name": "stdout",
     "output_type": "stream",
     "text": [
      "7777\n",
      "7742\n"
     ]
    }
   ],
   "source": [
    "print(df['ProductId'].nunique())\n",
    "print(df['ProductName'].nunique())"
   ]
  },
  {
   "cell_type": "code",
   "execution_count": 97,
   "id": "a1aac9cf-a331-402d-90ec-c74811d6316f",
   "metadata": {},
   "outputs": [],
   "source": [
    "df.drop(columns=['CustomerId','ProductId', 'CustomerName', 'ProductName', 'SterilizationMethodName', 'MachineTypeName', 'ItemTypeName','SpecialtyName'], inplace=True)"
   ]
  },
  {
   "cell_type": "code",
   "execution_count": 98,
   "id": "0707479a-d412-48eb-8c37-84e9053e272b",
   "metadata": {},
   "outputs": [
    {
     "data": {
      "text/html": [
       "<div>\n",
       "<style scoped>\n",
       "    .dataframe tbody tr th:only-of-type {\n",
       "        vertical-align: middle;\n",
       "    }\n",
       "\n",
       "    .dataframe tbody tr th {\n",
       "        vertical-align: top;\n",
       "    }\n",
       "\n",
       "    .dataframe thead th {\n",
       "        text-align: right;\n",
       "    }\n",
       "</style>\n",
       "<table border=\"1\" class=\"dataframe\">\n",
       "  <thead>\n",
       "    <tr style=\"text-align: right;\">\n",
       "      <th></th>\n",
       "      <th>SterilizationMethodId</th>\n",
       "      <th>MachineTypeId</th>\n",
       "      <th>ItemTypeId</th>\n",
       "      <th>SpecialtyId</th>\n",
       "      <th>CategoryName</th>\n",
       "    </tr>\n",
       "  </thead>\n",
       "  <tbody>\n",
       "    <tr>\n",
       "      <th>0</th>\n",
       "      <td>26</td>\n",
       "      <td>2</td>\n",
       "      <td>4</td>\n",
       "      <td>31</td>\n",
       "      <td>Flexible Scope</td>\n",
       "    </tr>\n",
       "    <tr>\n",
       "      <th>13</th>\n",
       "      <td>0</td>\n",
       "      <td>2</td>\n",
       "      <td>4</td>\n",
       "      <td>31</td>\n",
       "      <td>Rigid Scope</td>\n",
       "    </tr>\n",
       "    <tr>\n",
       "      <th>18</th>\n",
       "      <td>0</td>\n",
       "      <td>2</td>\n",
       "      <td>4</td>\n",
       "      <td>31</td>\n",
       "      <td>Power System</td>\n",
       "    </tr>\n",
       "    <tr>\n",
       "      <th>27</th>\n",
       "      <td>26</td>\n",
       "      <td>2</td>\n",
       "      <td>4</td>\n",
       "      <td>31</td>\n",
       "      <td>Instrument</td>\n",
       "    </tr>\n",
       "    <tr>\n",
       "      <th>31</th>\n",
       "      <td>26</td>\n",
       "      <td>2</td>\n",
       "      <td>4</td>\n",
       "      <td>31</td>\n",
       "      <td>Rigid Scope</td>\n",
       "    </tr>\n",
       "  </tbody>\n",
       "</table>\n",
       "</div>"
      ],
      "text/plain": [
       "    SterilizationMethodId  MachineTypeId  ItemTypeId  SpecialtyId  \\\n",
       "0                      26              2           4           31   \n",
       "13                      0              2           4           31   \n",
       "18                      0              2           4           31   \n",
       "27                     26              2           4           31   \n",
       "31                     26              2           4           31   \n",
       "\n",
       "      CategoryName  \n",
       "0   Flexible Scope  \n",
       "13     Rigid Scope  \n",
       "18    Power System  \n",
       "27      Instrument  \n",
       "31     Rigid Scope  "
      ]
     },
     "execution_count": 98,
     "metadata": {},
     "output_type": "execute_result"
    }
   ],
   "source": [
    "df.head()"
   ]
  },
  {
   "cell_type": "code",
   "execution_count": 99,
   "id": "b6c057fa-efdf-45eb-bf25-d78170d7c166",
   "metadata": {},
   "outputs": [
    {
     "name": "stdout",
     "output_type": "stream",
     "text": [
      "<class 'pandas.core.frame.DataFrame'>\n",
      "Index: 7777 entries, 0 to 116053\n",
      "Data columns (total 5 columns):\n",
      " #   Column                 Non-Null Count  Dtype \n",
      "---  ------                 --------------  ----- \n",
      " 0   SterilizationMethodId  7777 non-null   int64 \n",
      " 1   MachineTypeId          7777 non-null   int64 \n",
      " 2   ItemTypeId             7777 non-null   int64 \n",
      " 3   SpecialtyId            7777 non-null   int64 \n",
      " 4   CategoryName           7777 non-null   object\n",
      "dtypes: int64(4), object(1)\n",
      "memory usage: 364.5+ KB\n"
     ]
    }
   ],
   "source": [
    "df.info()"
   ]
  },
  {
   "cell_type": "code",
   "execution_count": 129,
   "id": "f1de2d42-6bab-4d1a-8968-a85ecc13528c",
   "metadata": {},
   "outputs": [
    {
     "name": "stdout",
     "output_type": "stream",
     "text": [
      "CategoryName\n",
      "Instrument        5501\n",
      "Power System       943\n",
      "Rigid Scope        845\n",
      "Flexible Scope     274\n",
      "Video              103\n",
      "Ultrasound          74\n",
      "Ophthalmic          24\n",
      "Endocam             13\n",
      "Name: count, dtype: int64\n"
     ]
    }
   ],
   "source": [
    "# Count the number of products under each category\n",
    "product_count_per_category = df['CategoryName'].value_counts()\n",
    "print(product_count_per_category)"
   ]
  },
  {
   "cell_type": "code",
   "execution_count": 101,
   "id": "fea2054b-682c-4c92-bd04-10a0bf253cda",
   "metadata": {},
   "outputs": [
    {
     "name": "stdout",
     "output_type": "stream",
     "text": [
      "Number of unique counts for each column:\n",
      "SterilizationMethodId    48\n",
      "MachineTypeId             3\n",
      "ItemTypeId                8\n",
      "SpecialtyId              70\n",
      "CategoryName              8\n",
      "dtype: int64\n"
     ]
    }
   ],
   "source": [
    "# Count the number of unique values in each column\n",
    "unique_counts = df.nunique()\n",
    "\n",
    "# Print the number of unique counts for each column\n",
    "print(\"Number of unique counts for each column:\")\n",
    "print(unique_counts)"
   ]
  },
  {
   "cell_type": "code",
   "execution_count": 60,
   "id": "661bf726-cdc6-46bd-950f-6e5db5964328",
   "metadata": {},
   "outputs": [],
   "source": [
    "# Encode categorical variables\n",
    "# data_encoded = pd.get_dummies(df, columns=['SterilizationMethodId', 'MachineTypeId', 'ItemTypeId', 'SpecialtyId'])"
   ]
  },
  {
   "cell_type": "code",
   "execution_count": 104,
   "id": "fe3e1243-cec7-4bc5-a601-5e69f3ae9b93",
   "metadata": {},
   "outputs": [],
   "source": [
    "# Separate features and target variable\n",
    "X = df.drop(columns=['CategoryName'])\n",
    "y = df['CategoryName']"
   ]
  },
  {
   "cell_type": "code",
   "execution_count": 106,
   "id": "929a7709-818a-4453-9fc0-30fa8c627a90",
   "metadata": {},
   "outputs": [],
   "source": [
    "# Split data into training and testing sets\n",
    "X_train, X_test, y_train, y_test = train_test_split(X, y, test_size=0.3, random_state=42)"
   ]
  },
  {
   "cell_type": "code",
   "execution_count": 107,
   "id": "cdddf01b-9c41-406b-a4d1-e7fe1e66a330",
   "metadata": {},
   "outputs": [
    {
     "name": "stdout",
     "output_type": "stream",
     "text": [
      "Accuracy: 0.7570694087403599\n",
      "Classification Report:\n",
      "                precision    recall  f1-score   support\n",
      "\n",
      "       Endocam       0.00      0.00      0.00         1\n",
      "Flexible Scope       0.40      0.09      0.15        88\n",
      "    Instrument       0.80      0.96      0.87      1644\n",
      "    Ophthalmic       0.00      0.00      0.00         8\n",
      "  Power System       0.50      0.22      0.31       297\n",
      "   Rigid Scope       0.56      0.47      0.51       243\n",
      "    Ultrasound       0.57      0.20      0.30        20\n",
      "         Video       0.14      0.06      0.09        33\n",
      "\n",
      "      accuracy                           0.76      2334\n",
      "     macro avg       0.37      0.25      0.28      2334\n",
      "  weighted avg       0.71      0.76      0.72      2334\n",
      "\n",
      "Confusion Matrix:\n",
      "[[   0    0    1    0    0    0    0    0]\n",
      " [   0    8   60    0    7   12    0    1]\n",
      " [   0    2 1573    0   34   30    1    4]\n",
      " [   0    0    7    0    0    1    0    0]\n",
      " [   1    1  205    0   66   22    0    2]\n",
      " [   1    7   93    0   21  114    2    5]\n",
      " [   0    1    5    0    2    8    4    0]\n",
      " [   0    1   12    0    1   17    0    2]]\n"
     ]
    },
    {
     "name": "stderr",
     "output_type": "stream",
     "text": [
      "C:\\Users\\pawvaibh\\AppData\\Local\\anaconda3\\Lib\\site-packages\\sklearn\\metrics\\_classification.py:1344: UndefinedMetricWarning: Precision and F-score are ill-defined and being set to 0.0 in labels with no predicted samples. Use `zero_division` parameter to control this behavior.\n",
      "  _warn_prf(average, modifier, msg_start, len(result))\n",
      "C:\\Users\\pawvaibh\\AppData\\Local\\anaconda3\\Lib\\site-packages\\sklearn\\metrics\\_classification.py:1344: UndefinedMetricWarning: Precision and F-score are ill-defined and being set to 0.0 in labels with no predicted samples. Use `zero_division` parameter to control this behavior.\n",
      "  _warn_prf(average, modifier, msg_start, len(result))\n",
      "C:\\Users\\pawvaibh\\AppData\\Local\\anaconda3\\Lib\\site-packages\\sklearn\\metrics\\_classification.py:1344: UndefinedMetricWarning: Precision and F-score are ill-defined and being set to 0.0 in labels with no predicted samples. Use `zero_division` parameter to control this behavior.\n",
      "  _warn_prf(average, modifier, msg_start, len(result))\n"
     ]
    }
   ],
   "source": [
    "# Initialize and train the Random Forest classifier\n",
    "rf_classifier = RandomForestClassifier(random_state=42)\n",
    "rf_classifier.fit(X_train, y_train)\n",
    "\n",
    "y_pred = rf_classifier.predict(X_test)\n",
    "\n",
    "accuracy = accuracy_score(y_test, y_pred)\n",
    "\n",
    "print(\"Accuracy:\", accuracy)\n",
    "print(\"Classification Report:\")\n",
    "print(classification_report(y_test, y_pred))\n",
    "print(\"Confusion Matrix:\")\n",
    "print(confusion_matrix(y_test, y_pred))"
   ]
  },
  {
   "cell_type": "code",
   "execution_count": 111,
   "id": "40aaeacc-9d53-4565-a626-5c51b43bca2c",
   "metadata": {},
   "outputs": [],
   "source": [
    "param_grid = {\n",
    "    'n_estimators': [50, 100, 150],\n",
    "    'max_depth': [None, 10, 20],\n",
    "    'min_samples_split': [2, 5, 10],\n",
    "    'min_samples_leaf': [1, 2, 4],\n",
    "    'max_features': ['auto', 'sqrt', 'log2']\n",
    "}"
   ]
  },
  {
   "cell_type": "code",
   "execution_count": 112,
   "id": "6e5d0bb3-976b-4561-9261-37a209df1240",
   "metadata": {},
   "outputs": [
    {
     "name": "stdout",
     "output_type": "stream",
     "text": [
      "Fitting 3 folds for each of 243 candidates, totalling 729 fits\n",
      "Best Hyperparameters (Grid Search): {'max_depth': 10, 'max_features': 'log2', 'min_samples_leaf': 2, 'min_samples_split': 10, 'n_estimators': 50}\n",
      "Fitting 3 folds for each of 50 candidates, totalling 150 fits\n",
      "Best Hyperparameters (Random Search): {'n_estimators': 50, 'min_samples_split': 5, 'min_samples_leaf': 2, 'max_features': 'log2', 'max_depth': None}\n"
     ]
    }
   ],
   "source": [
    "# Initialize the Random Forest classifier\n",
    "rf_classifier = RandomForestClassifier()\n",
    "\n",
    "# Perform hyperparameter tuning using grid search\n",
    "grid_search = GridSearchCV(estimator=rf_classifier, param_grid=param_grid, cv=3, n_jobs=-1, verbose=2)\n",
    "grid_search.fit(X_train, y_train)\n",
    "\n",
    "# Get the best hyperparameters and model\n",
    "best_params_grid = grid_search.best_params_\n",
    "best_model_grid = grid_search.best_estimator_\n",
    "\n",
    "print(\"Best Hyperparameters (Grid Search):\", best_params_grid)\n",
    "\n",
    "# Perform hyperparameter tuning using random search\n",
    "random_search = RandomizedSearchCV(estimator=rf_classifier, param_distributions=param_grid, n_iter=50, cv=3, n_jobs=-1, verbose=2, random_state=42)\n",
    "random_search.fit(X_train, y_train)\n",
    "\n",
    "# Get the best hyperparameters and model\n",
    "best_params_random = random_search.best_params_\n",
    "best_model_random = random_search.best_estimator_\n",
    "\n",
    "print(\"Best Hyperparameters (Random Search):\", best_params_random)"
   ]
  },
  {
   "cell_type": "code",
   "execution_count": 113,
   "id": "92e945ee-430d-4b40-b95b-b28cd3b52d0f",
   "metadata": {},
   "outputs": [
    {
     "name": "stdout",
     "output_type": "stream",
     "text": [
      "Accuracy with best model (Grid Search): 0.7652099400171379\n",
      "Accuracy with best model (Random Search): 0.7622107969151671\n"
     ]
    }
   ],
   "source": [
    "# Evaluate the best models\n",
    "y_pred_grid = best_model_grid.predict(X_test)\n",
    "accuracy_grid = accuracy_score(y_test, y_pred_grid)\n",
    "print(\"Accuracy with best model (Grid Search):\", accuracy_grid)\n",
    "\n",
    "y_pred_random = best_model_random.predict(X_test)\n",
    "accuracy_random = accuracy_score(y_test, y_pred_random)\n",
    "print(\"Accuracy with best model (Random Search):\", accuracy_random)"
   ]
  },
  {
   "cell_type": "code",
   "execution_count": 114,
   "id": "a044d2f8-7592-43d0-a3f8-eb3b9f423af0",
   "metadata": {},
   "outputs": [
    {
     "name": "stdout",
     "output_type": "stream",
     "text": [
      "Accuracy with balanced class weights: 0.5008568980291346\n"
     ]
    }
   ],
   "source": [
    "from imblearn.over_sampling import RandomOverSampler\n",
    "from imblearn.under_sampling import RandomUnderSampler\n",
    "from sklearn.utils.class_weight import compute_class_weight\n",
    "\n",
    "# Define oversampling and undersampling strategies\n",
    "oversampler = RandomOverSampler(sampling_strategy='minority')\n",
    "undersampler = RandomUnderSampler(sampling_strategy='majority')\n",
    "\n",
    "# Perform oversampling\n",
    "X_train_over, y_train_over = oversampler.fit_resample(X_train, y_train)\n",
    "\n",
    "# Perform undersampling\n",
    "X_train_under, y_train_under = undersampler.fit_resample(X_train, y_train)\n",
    "\n",
    "# Calculate class weights\n",
    "class_weights = compute_class_weight('balanced', classes=y.unique(), y=y)\n",
    "\n",
    "# Initialize the Random Forest classifier with balanced class weights\n",
    "rf_classifier_weighted = RandomForestClassifier(class_weight='balanced')\n",
    "\n",
    "# Train the classifier with balanced class weights\n",
    "rf_classifier_weighted.fit(X_train, y_train)\n",
    "\n",
    "# Evaluate the model with balanced class weights\n",
    "y_pred_weighted = rf_classifier_weighted.predict(X_test)\n",
    "accuracy_weighted = accuracy_score(y_test, y_pred_weighted)\n",
    "print(\"Accuracy with balanced class weights:\", accuracy_weighted)\n"
   ]
  },
  {
   "cell_type": "code",
   "execution_count": 115,
   "id": "b31d478c-981e-4f3b-b3dc-a03f7c1a139f",
   "metadata": {},
   "outputs": [
    {
     "name": "stdout",
     "output_type": "stream",
     "text": [
      "Cross-Validation Accuracy Scores: [0.75642674 0.75192802 0.76848875 0.7607717  0.75884244]\n",
      "Mean Accuracy: 0.7592915299349474\n",
      "Standard Deviation: 0.005466437527464285\n"
     ]
    }
   ],
   "source": [
    "from sklearn.model_selection import cross_val_score, StratifiedKFold\n",
    "\n",
    "# Define the number of folds for cross-validation\n",
    "num_folds = 5\n",
    "\n",
    "# Initialize StratifiedKFold cross-validation\n",
    "stratified_kfold = StratifiedKFold(n_splits=num_folds, shuffle=True, random_state=42)\n",
    "\n",
    "# Initialize the Random Forest classifier\n",
    "rf_classifier_cv = RandomForestClassifier()\n",
    "\n",
    "# Perform cross-validation\n",
    "cv_scores = cross_val_score(rf_classifier_cv, X, y, cv=stratified_kfold, scoring='accuracy')\n",
    "\n",
    "# Calculate and print cross-validation accuracy\n",
    "print(\"Cross-Validation Accuracy Scores:\", cv_scores)\n",
    "print(\"Mean Accuracy:\", cv_scores.mean())\n",
    "print(\"Standard Deviation:\", cv_scores.std())"
   ]
  },
  {
   "cell_type": "code",
   "execution_count": 116,
   "id": "285f4b8d-f6a7-4b7b-8737-6fe2eda7d835",
   "metadata": {},
   "outputs": [
    {
     "name": "stdout",
     "output_type": "stream",
     "text": [
      "Gradient Boosting Classifier Accuracy: 0.7626392459297343\n",
      "Bagging Classifier Accuracy: 0.760497000856898\n"
     ]
    }
   ],
   "source": [
    "from sklearn.ensemble import GradientBoostingClassifier, BaggingClassifier\n",
    "\n",
    "# Initialize Gradient Boosting Classifier\n",
    "gb_classifier = GradientBoostingClassifier()\n",
    "\n",
    "# Train Gradient Boosting Classifier\n",
    "gb_classifier.fit(X_train, y_train)\n",
    "\n",
    "# Initialize Bagging Classifier with Decision Trees\n",
    "bagging_classifier = BaggingClassifier()\n",
    "\n",
    "# Train Bagging Classifier\n",
    "bagging_classifier.fit(X_train, y_train)\n",
    "\n",
    "# Evaluate Gradient Boosting Classifier\n",
    "gb_accuracy = gb_classifier.score(X_test, y_test)\n",
    "print(\"Gradient Boosting Classifier Accuracy:\", gb_accuracy)\n",
    "\n",
    "# Evaluate Bagging Classifier\n",
    "bagging_accuracy = bagging_classifier.score(X_test, y_test)\n",
    "print(\"Bagging Classifier Accuracy:\", bagging_accuracy)"
   ]
  },
  {
   "cell_type": "code",
   "execution_count": 117,
   "id": "f3f9770d-9131-4665-9ad2-2d13f3745798",
   "metadata": {},
   "outputs": [
    {
     "name": "stdout",
     "output_type": "stream",
     "text": [
      "Fitting 5 folds for each of 216 candidates, totalling 1080 fits\n",
      "Best Hyperparameters (Decision Tree): {'criterion': 'gini', 'max_depth': 10, 'max_features': 'auto', 'min_samples_leaf': 4, 'min_samples_split': 10}\n",
      "Tuned Decision Tree Classifier Accuracy: 0.7600685518423308\n"
     ]
    },
    {
     "name": "stderr",
     "output_type": "stream",
     "text": [
      "C:\\Users\\pawvaibh\\AppData\\Local\\anaconda3\\Lib\\site-packages\\sklearn\\tree\\_classes.py:269: FutureWarning: `max_features='auto'` has been deprecated in 1.1 and will be removed in 1.3. To keep the past behaviour, explicitly set `max_features='sqrt'`.\n",
      "  warnings.warn(\n"
     ]
    }
   ],
   "source": [
    "from sklearn.tree import DecisionTreeClassifier\n",
    "\n",
    "# Define the hyperparameter grid for grid search\n",
    "param_grid_dt = {\n",
    "    'criterion': ['gini', 'entropy'],\n",
    "    'max_depth': [None, 10, 20, 30],\n",
    "    'min_samples_split': [2, 5, 10],\n",
    "    'min_samples_leaf': [1, 2, 4],\n",
    "    'max_features': ['auto', 'sqrt', 'log2']\n",
    "}\n",
    "\n",
    "# Initialize Decision Tree Classifier\n",
    "dt_classifier_tuned = DecisionTreeClassifier()\n",
    "\n",
    "# Perform grid search for hyperparameter tuning\n",
    "grid_search_dt = GridSearchCV(estimator=dt_classifier_tuned, param_grid=param_grid_dt, cv=5, n_jobs=-1, verbose=2)\n",
    "grid_search_dt.fit(X_train, y_train)\n",
    "\n",
    "# Get the best hyperparameters and model\n",
    "best_params_dt = grid_search_dt.best_params_\n",
    "best_model_dt = grid_search_dt.best_estimator_\n",
    "\n",
    "print(\"Best Hyperparameters (Decision Tree):\", best_params_dt)\n",
    "\n",
    "# Evaluate the tuned Decision Tree Classifier\n",
    "dt_accuracy_tuned = best_model_dt.score(X_test, y_test)\n",
    "print(\"Tuned Decision Tree Classifier Accuracy:\", dt_accuracy_tuned)\n"
   ]
  },
  {
   "cell_type": "code",
   "execution_count": 119,
   "id": "347ef693-1162-4f4f-ac3b-14b472c95aba",
   "metadata": {},
   "outputs": [
    {
     "name": "stdout",
     "output_type": "stream",
     "text": [
      "+--------------------------------+----------------+\n",
      "|             Model              | Accuracy Score |\n",
      "+--------------------------------+----------------+\n",
      "|       Grid Search Forest       |      0.77      |\n",
      "|      Random Search Forest      |      0.76      |\n",
      "| Balance Weighted Random Forest |      0.5       |\n",
      "|        Stratfied K-fold        |      0.76      |\n",
      "|  Gradient Boosting Classifier  |      0.76      |\n",
      "|       Bagging Classifier       |      0.76      |\n",
      "| Tuned Decision Tree Classifier |      0.76      |\n",
      "+--------------------------------+----------------+\n"
     ]
    }
   ],
   "source": [
    "#Without Duplicates\n",
    "from prettytable import PrettyTable\n",
    "\n",
    "x = PrettyTable()\n",
    "\n",
    "x.field_names = [\"Model\", \"Accuracy Score\"]\n",
    "x.add_row(['Grid Search Forest', round(accuracy_grid, 2)])\n",
    "x.add_row(['Random Search Forest', round(accuracy_random, 2)])\n",
    "x.add_row(['Balance Weighted Random Forest', round(accuracy_weighted, 2)])\n",
    "x.add_row(['Stratfied K-fold', round(cv_scores.mean(), 2)])\n",
    "x.add_row(['Gradient Boosting Classifier', round(gb_accuracy, 2)])\n",
    "x.add_row(['Bagging Classifier', round(bagging_accuracy, 2)])\n",
    "x.add_row(['Tuned Decision Tree Classifier', round(dt_accuracy_tuned, 2)])\n",
    "print(x)\n"
   ]
  },
  {
   "cell_type": "code",
   "execution_count": 49,
   "id": "9370029b-1742-439f-bd92-1455f4927416",
   "metadata": {},
   "outputs": [
    {
     "name": "stdout",
     "output_type": "stream",
     "text": [
      "+--------------------------------+----------------+\n",
      "|             Model              | Accuracy Score |\n",
      "+--------------------------------+----------------+\n",
      "|       Grid Search Forest       |      0.99      |\n",
      "|      Random Search Forest      |      0.99      |\n",
      "| Balance Weighted Random Forest |      0.99      |\n",
      "|        Stratfied K-fold        |      1.0       |\n",
      "|  Gradient Boosting Classifier  |      0.89      |\n",
      "|       Bagging Classifier       |      0.99      |\n",
      "| Tuned Decision Tree Classifier |      0.99      |\n",
      "|      Logistic Regression       |      0.82      |\n",
      "+--------------------------------+----------------+\n"
     ]
    }
   ],
   "source": [
    "#with Duplicates\n",
    "from prettytable import PrettyTable\n",
    "\n",
    "x = PrettyTable()\n",
    "\n",
    "x.field_names = [\"Model\", \"Accuracy Score\"]\n",
    "x.add_row(['Grid Search Forest', round(accuracy_grid, 2)])\n",
    "x.add_row(['Random Search Forest', round(accuracy_random, 2)])\n",
    "x.add_row(['Balance Weighted Random Forest', round(accuracy_weighted, 2)])\n",
    "x.add_row(['Stratfied K-fold', round(cv_scores.mean(), 2)])\n",
    "x.add_row(['Gradient Boosting Classifier', round(gb_accuracy, 2)])\n",
    "x.add_row(['Bagging Classifier', round(bagging_accuracy, 2)])\n",
    "x.add_row(['Tuned Decision Tree Classifier', round(dt_accuracy_tuned, 2)])\n",
    "x.add_row(['Logistic Regression', round(log_accuracy, 2)])\n",
    "print(x)\n"
   ]
  },
  {
   "cell_type": "code",
   "execution_count": 124,
   "id": "f9758641-8e92-4ec8-bcf0-698ffd0a3ebb",
   "metadata": {},
   "outputs": [
    {
     "name": "stdout",
     "output_type": "stream",
     "text": [
      "Predicted Category: ['Rigid Scope']\n"
     ]
    },
    {
     "name": "stderr",
     "output_type": "stream",
     "text": [
      "C:\\Users\\pawvaibh\\AppData\\Local\\anaconda3\\Lib\\site-packages\\sklearn\\base.py:439: UserWarning: X does not have valid feature names, but RandomForestClassifier was fitted with feature names\n",
      "  warnings.warn(\n"
     ]
    }
   ],
   "source": [
    "# Predict category for new input data\n",
    "new_input = [[26, 1, 4, 57]]  # Example input data\n",
    "predicted_category = grid_search.predict(new_input)\n",
    "print(\"Predicted Category:\", predicted_category)"
   ]
  },
  {
   "cell_type": "code",
   "execution_count": 126,
   "id": "85b25408-770d-4fbd-8f5d-08c17bc90ba1",
   "metadata": {},
   "outputs": [],
   "source": [
    "# Create a Voting Classifier with the individual base models\n",
    "voting_classifier = VotingClassifier(estimators=[('grf', best_model_grid), ('dt', best_model_dt)], voting='hard')"
   ]
  },
  {
   "cell_type": "code",
   "execution_count": 127,
   "id": "a51bbd9b-10bf-4f1c-8f7e-433bf57e8530",
   "metadata": {},
   "outputs": [
    {
     "name": "stdout",
     "output_type": "stream",
     "text": [
      "Voting Classifier Accuracy: 0.7570694087403599\n"
     ]
    },
    {
     "name": "stderr",
     "output_type": "stream",
     "text": [
      "C:\\Users\\pawvaibh\\AppData\\Local\\anaconda3\\Lib\\site-packages\\sklearn\\tree\\_classes.py:269: FutureWarning: `max_features='auto'` has been deprecated in 1.1 and will be removed in 1.3. To keep the past behaviour, explicitly set `max_features='sqrt'`.\n",
      "  warnings.warn(\n"
     ]
    }
   ],
   "source": [
    "# Train the voting classifier on the training data\n",
    "voting_classifier.fit(X_train, y_train)\n",
    "\n",
    "# Make predictions on the test data\n",
    "y_pred = voting_classifier.predict(X_test)\n",
    "\n",
    "# Evaluate the performance of the voting classifier\n",
    "accuracy = accuracy_score(y_test, y_pred)\n",
    "print(\"Voting Classifier Accuracy:\", accuracy)"
   ]
  },
  {
   "cell_type": "code",
   "execution_count": null,
   "id": "a931af81-8a51-4912-91d1-da26c0983f33",
   "metadata": {},
   "outputs": [],
   "source": []
  }
 ],
 "metadata": {
  "kernelspec": {
   "display_name": "Python 3 (ipykernel)",
   "language": "python",
   "name": "python3"
  },
  "language_info": {
   "codemirror_mode": {
    "name": "ipython",
    "version": 3
   },
   "file_extension": ".py",
   "mimetype": "text/x-python",
   "name": "python",
   "nbconvert_exporter": "python",
   "pygments_lexer": "ipython3",
   "version": "3.11.7"
  }
 },
 "nbformat": 4,
 "nbformat_minor": 5
}
