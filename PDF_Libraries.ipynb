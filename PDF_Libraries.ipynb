{
 "cells": [
  {
   "cell_type": "code",
   "execution_count": null,
   "id": "ab408059-cbc5-44fe-b039-cde00109369c",
   "metadata": {},
   "outputs": [],
   "source": [
    "from PyPDF2 import PdfReader, PdfWriter"
   ]
  },
  {
   "cell_type": "code",
   "execution_count": null,
   "id": "f8d3c40e-98de-4880-a909-be4c751f7be2",
   "metadata": {},
   "outputs": [],
   "source": [
    "reader = PdfReader(\"C:/Users/pawvaibh/Downloads/pdf-miner.pdf\")\n",
    "writer = PdfWriter()"
   ]
  },
  {
   "cell_type": "code",
   "execution_count": null,
   "id": "ecd4e293-5604-4c57-a547-4409d46c64f5",
   "metadata": {},
   "outputs": [],
   "source": [
    "meta = reader.metadata\n",
    "print(len(reader.pages))"
   ]
  },
  {
   "cell_type": "code",
   "execution_count": null,
   "id": "58334cda-bb99-4481-b6ca-a4cf59ff293d",
   "metadata": {},
   "outputs": [],
   "source": [
    "for page in reader.pages:\n",
    "    writer.add_page(page)\n",
    "\n",
    "writer.add_metadata(\n",
    "    {\n",
    "        \"/Author\" : \"Qwerty\"\n",
    "    }\n",
    "\n",
    ")"
   ]
  },
  {
   "cell_type": "code",
   "execution_count": null,
   "id": "c7ca75b4-cb82-4e43-8fb6-3c3fc50d10ae",
   "metadata": {},
   "outputs": [],
   "source": [
    "with open(\"meta-pdf.pdf\", \"wb\") as f:\n",
    "    writer.write(f)"
   ]
  },
  {
   "cell_type": "code",
   "execution_count": null,
   "id": "d3af7f4e-5f30-40d9-92ec-defcbd59efd5",
   "metadata": {},
   "outputs": [],
   "source": [
    "page = reader.pages[4]\n",
    "print(page.extract_text())"
   ]
  },
  {
   "cell_type": "code",
   "execution_count": null,
   "id": "117752e8-83ce-4fd2-8507-a2415f5e386f",
   "metadata": {},
   "outputs": [],
   "source": [
    "print(page.extract_text())"
   ]
  },
  {
   "cell_type": "code",
   "execution_count": null,
   "id": "648bea5d-c7aa-454f-af5a-bd078defc77e",
   "metadata": {},
   "outputs": [],
   "source": [
    "reader.page_mode"
   ]
  },
  {
   "cell_type": "code",
   "execution_count": 4,
   "id": "41e732d3-92d7-4cd7-9444-44f17def9b9d",
   "metadata": {},
   "outputs": [
    {
     "name": "stdout",
     "output_type": "stream",
     "text": [
      "Note: you may need to restart the kernel to use updated packages.\n"
     ]
    },
    {
     "name": "stderr",
     "output_type": "stream",
     "text": [
      "ERROR: Could not find a version that satisfies the requirement cv2 (from versions: none)\n",
      "ERROR: No matching distribution found for cv2\n"
     ]
    }
   ],
   "source": [
    "pip install cv2"
   ]
  }
 ],
 "metadata": {
  "kernelspec": {
   "display_name": "Python 3 (ipykernel)",
   "language": "python",
   "name": "python3"
  },
  "language_info": {
   "codemirror_mode": {
    "name": "ipython",
    "version": 3
   },
   "file_extension": ".py",
   "mimetype": "text/x-python",
   "name": "python",
   "nbconvert_exporter": "python",
   "pygments_lexer": "ipython3",
   "version": "3.11.7"
  }
 },
 "nbformat": 4,
 "nbformat_minor": 5
}
