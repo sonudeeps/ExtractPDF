{
 "cells": [
  {
   "cell_type": "code",
   "execution_count": 1,
   "id": "87e5918c-2836-4b14-a855-b396e2f7ca89",
   "metadata": {},
   "outputs": [],
   "source": [
    "import os \n",
    "os.environ['KMP_DUPLICATE_LIB_OK']='True'"
   ]
  },
  {
   "cell_type": "code",
   "execution_count": 2,
   "id": "7e1b2c44-5405-4cad-b58a-4a498c360824",
   "metadata": {},
   "outputs": [
    {
     "name": "stderr",
     "output_type": "stream",
     "text": [
      "\u001b[34m\u001b[1mwandb\u001b[0m: WARNING  wandb is deprecated and will be removed in a future release. See supported integrations at https://github.com/ultralytics/yolov5#integrations.\n",
      "\u001b[34m\u001b[1mwandb\u001b[0m: (1) Create a W&B account\n",
      "\u001b[34m\u001b[1mwandb\u001b[0m: (2) Use an existing W&B account\n",
      "\u001b[34m\u001b[1mwandb\u001b[0m: (3) Don't visualize my results\n"
     ]
    },
    {
     "name": "stdout",
     "output_type": "stream",
     "text": [
      "wandb: Enter your choice: (30 second timeout) "
     ]
    },
    {
     "name": "stdin",
     "output_type": "stream",
     "text": [
      " 3\n"
     ]
    },
    {
     "name": "stderr",
     "output_type": "stream",
     "text": [
      "\u001b[34m\u001b[1mwandb\u001b[0m: You chose \"Don't visualize my results\"\n"
     ]
    }
   ],
   "source": [
    "from ultralytics import YOLO\n",
    "import os\n",
    "os.chdir(r'C:\\Users\\pawvaibh\\yolov5')  \n",
    "from train import train\n",
    "from val import run\n",
    "from detect import main"
   ]
  },
  {
   "cell_type": "code",
   "execution_count": null,
   "id": "273ea2c9-09d0-4fbe-aac7-b9630ffe1204",
   "metadata": {},
   "outputs": [],
   "source": [
    "!python train.py --img 640 --epochs 20 --batch 8 --data ./Licence/US_DL.yaml --weights yolov5s.pt --cache"
   ]
  },
  {
   "cell_type": "code",
   "execution_count": 8,
   "id": "329a56cc-e8eb-4fe4-bd7c-9da438d86771",
   "metadata": {},
   "outputs": [
    {
     "name": "stderr",
     "output_type": "stream",
     "text": [
      "\u001b[34m\u001b[1mval: \u001b[0mdata=./Licence/US_DL.yaml, weights=['./runs/train/exp10/weights/best.pt'], batch_size=32, imgsz=640, conf_thres=0.001, iou_thres=0.6, max_det=300, task=val, device=, workers=8, single_cls=False, augment=False, verbose=False, save_txt=False, save_hybrid=False, save_conf=False, save_json=False, project=runs\\val, name=exp, exist_ok=False, half=False, dnn=False\n",
      "YOLOv5  v7.0-304-g22361691 Python-3.11.7 torch-2.2.0 CPU\n",
      "\n",
      "Fusing layers... \n",
      "custom_YOLOv5l summary: 286 layers, 46622106 parameters, 0 gradients\n",
      "\n",
      "\u001b[34m\u001b[1mval: \u001b[0mScanning C:\\Users\\pawvaibh\\yolov5\\Licence\\train\\labels...:   0%|          | 0/45 [00:00<?, ?it/s]\n",
      "\u001b[34m\u001b[1mval: \u001b[0mScanning C:\\Users\\pawvaibh\\yolov5\\Licence\\train\\labels... 1 images, 0 backgrounds, 0 corrupt:   2%|2         | 1/45 [00:06<05:02,  6.88s/it]\n",
      "\u001b[34m\u001b[1mval: \u001b[0mScanning C:\\Users\\pawvaibh\\yolov5\\Licence\\train\\labels... 45 images, 0 backgrounds, 0 corrupt: 100%|##########| 45/45 [00:06<00:00,  6.52it/s]\n",
      "\u001b[34m\u001b[1mval: \u001b[0mWARNING  Cache directory C:\\Users\\pawvaibh\\yolov5\\Licence\\train is not writeable: [WinError 183] Cannot create a file when that file already exists: 'C:\\\\Users\\\\pawvaibh\\\\yolov5\\\\Licence\\\\train\\\\labels.cache.npy' -> 'C:\\\\Users\\\\pawvaibh\\\\yolov5\\\\Licence\\\\train\\\\labels.cache'\n",
      "\n",
      "                 Class     Images  Instances          P          R      mAP50   mAP50-95:   0%|          | 0/2 [00:00<?, ?it/s]WARNING  NMS time limit 2.100s exceeded\n",
      "\n",
      "                 Class     Images  Instances          P          R      mAP50   mAP50-95:  50%|#####     | 1/2 [00:16<00:16, 16.09s/it]WARNING  NMS time limit 1.150s exceeded\n",
      "\n",
      "                 Class     Images  Instances          P          R      mAP50   mAP50-95: 100%|##########| 2/2 [00:22<00:00, 10.62s/it]\n",
      "                 Class     Images  Instances          P          R      mAP50   mAP50-95: 100%|##########| 2/2 [00:22<00:00, 11.44s/it]\n",
      "                   all         45        225          0          0          0          0\n",
      "Speed: 1.6ms pre-process, 400.9ms inference, 98.1ms NMS per image at shape (32, 3, 640, 640)\n",
      "Results saved to \u001b[1mruns\\val\\exp\u001b[0m\n"
     ]
    }
   ],
   "source": [
    "!python val.py --data ./Licence/US_DL.yaml --weights ./runs/train/exp10/weights/best.pt --img 640"
   ]
  },
  {
   "cell_type": "code",
   "execution_count": 6,
   "id": "25be41ee-c61a-400b-934f-da89501122f1",
   "metadata": {},
   "outputs": [
    {
     "name": "stderr",
     "output_type": "stream",
     "text": [
      "\u001b[34m\u001b[1mdetect: \u001b[0mweights=['./runs/train/yolov5s_results5/weights/best.pt'], source=./coco128/val/images/000000000034.jpg, data=data\\coco128.yaml, imgsz=[419, 419], conf_thres=0.4, iou_thres=0.45, max_det=1000, device=, view_img=False, save_txt=False, save_csv=False, save_conf=False, save_crop=False, nosave=False, classes=None, agnostic_nms=False, augment=False, visualize=False, update=False, project=runs\\detect, name=exp, exist_ok=False, line_thickness=3, hide_labels=False, hide_conf=False, half=False, dnn=False, vid_stride=1\n",
      "YOLOv5  v7.0-304-g22361691 Python-3.11.7 torch-2.2.0 CPU\n",
      "\n",
      "Fusing layers... \n",
      "YOLOv5n summary: 157 layers, 1867405 parameters, 0 gradients, 4.5 GFLOPs\n",
      "WARNING  --img-size [419, 419] must be multiple of max stride 32, updating to [448, 448]\n",
      "image 1/1 C:\\Users\\pawvaibh\\yolov5\\coco128\\val\\images\\000000000034.jpg: 320x448 (no detections), 60.5ms\n",
      "Speed: 0.0ms pre-process, 60.5ms inference, 0.0ms NMS per image at shape (1, 3, 448, 448)\n",
      "Results saved to \u001b[1mruns\\detect\\exp\u001b[0m\n"
     ]
    }
   ],
   "source": [
    "!python detect.py --source ./coco128/val/images/000000000034.jpg --weights ./runs/train/yolov5s_results5/weights/best.pt --img 419 --conf-thres 0.4"
   ]
  },
  {
   "cell_type": "code",
   "execution_count": null,
   "id": "1eb6d6b1-8c86-428d-8dd9-2518cba09f67",
   "metadata": {},
   "outputs": [],
   "source": [
    "!python train.py --img 640 --batch 2 --epochs 10 --data ./SROIE/sroie.yml --cfg ./SROIE/yolov5n.yml --hyp ./SROIE/hyp_scratch.yml --weights '' --name sroie_results --cache"
   ]
  },
  {
   "cell_type": "code",
   "execution_count": null,
   "id": "246a39eb-4ee8-4bd1-8d9b-4febaef36b8b",
   "metadata": {},
   "outputs": [],
   "source": [
    "!python val.py --data ./SROIE/sroie.yml --weights ./runs/train/sroie_results2/weights/best.pt --img 640"
   ]
  },
  {
   "cell_type": "code",
   "execution_count": null,
   "id": "2d6a12c5-ea40-42da-a207-e1d84baad4a6",
   "metadata": {},
   "outputs": [],
   "source": [
    "!python detect.py --source ./SROIE/X51005677329.jpg --weights ./runs/train/sroie_results2/weights/best.pt --conf-thres 0.003"
   ]
  }
 ],
 "metadata": {
  "kernelspec": {
   "display_name": "Python 3 (ipykernel)",
   "language": "python",
   "name": "python3"
  },
  "language_info": {
   "codemirror_mode": {
    "name": "ipython",
    "version": 3
   },
   "file_extension": ".py",
   "mimetype": "text/x-python",
   "name": "python",
   "nbconvert_exporter": "python",
   "pygments_lexer": "ipython3",
   "version": "3.11.7"
  }
 },
 "nbformat": 4,
 "nbformat_minor": 5
}
