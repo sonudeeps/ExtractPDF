{
 "cells": [
  {
   "cell_type": "code",
   "execution_count": 3,
   "id": "e931fa46-661e-492e-9ed8-d237fba78bd6",
   "metadata": {},
   "outputs": [],
   "source": [
    "import os \n",
    "os.environ['KMP_DUPLICATE_LIB_OK']='True'"
   ]
  },
  {
   "cell_type": "code",
   "execution_count": 4,
   "id": "23c28084-1417-442d-a69c-0524f236bee9",
   "metadata": {},
   "outputs": [],
   "source": [
    "import pandas as pd\n",
    "from sklearn.model_selection import train_test_split\n",
    "from sklearn.tree import DecisionTreeClassifier\n",
    "from sklearn.multioutput import MultiOutputClassifier\n",
    "from sklearn.metrics import classification_report, accuracy_score"
   ]
  },
  {
   "cell_type": "code",
   "execution_count": 5,
   "id": "ae1e7f55-028b-4ffa-a842-85a173bdf29e",
   "metadata": {},
   "outputs": [],
   "source": [
    "df = pd.read_excel(r'C:\\Users\\pawvaibh\\Downloads\\decision tree\\data.xlsx')\n",
    "df1=df"
   ]
  },
  {
   "cell_type": "code",
   "execution_count": 6,
   "id": "25be6369-3611-484a-8ba3-bbb1a1bcc24d",
   "metadata": {},
   "outputs": [],
   "source": [
    "# Drop rows containing 'fail' or 'not satisfied' in any column\n",
    "#df1 = df1.drop(df1[(df1 == 'fail').any(axis=1) | (df1 == 'not satisfied').any(axis=1)].index)\n",
    "dup_df = df.copy()\n",
    "new_df = pd.concat([df, dup_df], axis=0)\n",
    "new_df.reset_index(drop=True, inplace=True)"
   ]
  },
  {
   "cell_type": "code",
   "execution_count": 7,
   "id": "c5862b03-7dac-4e06-a7ac-7e9bfd036a7c",
   "metadata": {},
   "outputs": [
    {
     "data": {
      "text/plain": [
       "(202, 16)"
      ]
     },
     "execution_count": 7,
     "metadata": {},
     "output_type": "execute_result"
    }
   ],
   "source": [
    "new_df.shape"
   ]
  },
  {
   "cell_type": "code",
   "execution_count": 8,
   "id": "bb3a87d6-95d5-4fdd-81aa-343cdf47477f",
   "metadata": {},
   "outputs": [],
   "source": [
    "X = new_df.drop(columns=['Eligible', 'Queue', 'Application status ', 'Workflow status'])\n",
    "y = new_df[['Eligible', 'Queue', 'Application status ', 'Workflow status']]"
   ]
  },
  {
   "cell_type": "code",
   "execution_count": 9,
   "id": "e390c282-3262-4855-b2dc-00a04717dae6",
   "metadata": {},
   "outputs": [],
   "source": [
    "X = pd.get_dummies(X)"
   ]
  },
  {
   "cell_type": "code",
   "execution_count": 53,
   "id": "4d9542d3-1e3a-4afb-ab4c-56fecd0c66a9",
   "metadata": {},
   "outputs": [],
   "source": [
    "# Take last 15 records for test, rest for train\n",
    "X_train, X_test = X.iloc[:-20], X.iloc[-20:]\n",
    "y_train, y_test = y.iloc[:-20], y.iloc[-20:]\n",
    "\n",
    "# Initialize and train the multi-output decision tree classifier\n",
    "tree_model = MultiOutputClassifier(DecisionTreeClassifier(random_state=42))\n",
    "tree_model.fit(X_train, y_train)\n",
    "\n",
    "# Make predictions\n",
    "y_pred = tree_model.predict(X_test)"
   ]
  },
  {
   "cell_type": "code",
   "execution_count": 54,
   "id": "8ab79c5d-ca9e-4f21-8d6f-9274d5b45b6c",
   "metadata": {},
   "outputs": [
    {
     "name": "stderr",
     "output_type": "stream",
     "text": [
      "C:\\Users\\pawvaibh\\AppData\\Local\\anaconda3\\Lib\\site-packages\\sklearn\\model_selection\\_split.py:700: UserWarning: The least populated class in y has only 4 members, which is less than n_splits=10.\n",
      "  warnings.warn(\n",
      "C:\\Users\\pawvaibh\\AppData\\Local\\anaconda3\\Lib\\site-packages\\sklearn\\model_selection\\_split.py:700: UserWarning: The least populated class in y has only 8 members, which is less than n_splits=10.\n",
      "  warnings.warn(\n"
     ]
    },
    {
     "name": "stdout",
     "output_type": "stream",
     "text": [
      "Accuracy for Eligible: 0.9722222222222221\n",
      "Accuracy for Queue: 1.0\n",
      "Accuracy for Application status : 0.9833333333333332\n",
      "Accuracy for Workflow status: 1.0\n"
     ]
    }
   ],
   "source": [
    "from sklearn.model_selection import cross_val_score\n",
    "\n",
    "accuracy_scores = {}\n",
    "\n",
    "for target in y_train.columns:\n",
    "    y_train_target = y_train[[target]]\n",
    "    \n",
    "    # Perform cross-validation on the current target variable\n",
    "    scores = cross_val_score(tree_model, X_train, y_train_target, cv=10, scoring='accuracy')\n",
    "    \n",
    "    # Compute and store accuracy score for the current target variable\n",
    "    accuracy_scores[target] = scores.mean()\n",
    "\n",
    "# Print accuracy scores for each target variable\n",
    "for target, score in accuracy_scores.items():\n",
    "    print(f\"Accuracy for {target}: {score}\")"
   ]
  },
  {
   "cell_type": "code",
   "execution_count": 12,
   "id": "2ed3f22f-8e72-475f-b1d1-3911126639ba",
   "metadata": {},
   "outputs": [
    {
     "name": "stdout",
     "output_type": "stream",
     "text": [
      "Confusion matrix for Eligible:\n",
      "[[ 8  0  0]\n",
      " [ 0 13  0]\n",
      " [ 2  0  2]]\n",
      "\n",
      "Confusion matrix for Queue:\n",
      "[[13  0]\n",
      " [ 0 12]]\n",
      "\n",
      "Confusion matrix for Application status :\n",
      "[[ 4  0  0]\n",
      " [ 0 13  0]\n",
      " [ 2  0  6]]\n",
      "\n",
      "Confusion matrix for Workflow status:\n",
      "[[13  0]\n",
      " [ 0 12]]\n",
      "\n"
     ]
    }
   ],
   "source": [
    "from sklearn.metrics import confusion_matrix\n",
    "import numpy as np\n",
    "\n",
    "# Initialize an empty dictionary to store confusion matrices for each target variable\n",
    "confusion_matrices = {}\n",
    "\n",
    "# Compute confusion matrix for each target variable\n",
    "for target in y_test.columns:\n",
    "    y_test_target = y_test[target]  # Extract the target variable from test data\n",
    "    y_pred_target = y_pred[:, y_test.columns.get_loc(target)]  # Extract corresponding predictions\n",
    "    \n",
    "    # Compute confusion matrix\n",
    "    cm = confusion_matrix(y_test_target, y_pred_target)\n",
    "    \n",
    "    # Add confusion matrix to the dictionary\n",
    "    confusion_matrices[target] = cm\n",
    "\n",
    "# Print confusion matrices for each target variable\n",
    "for target, cm in confusion_matrices.items():\n",
    "    print(f\"Confusion matrix for {target}:\")\n",
    "    print(cm)\n",
    "    print()"
   ]
  },
  {
   "cell_type": "code",
   "execution_count": 13,
   "id": "fc577539-3d53-489b-a4b0-ae91c1541e2c",
   "metadata": {},
   "outputs": [],
   "source": [
    "new_data = pd.DataFrame({\n",
    "    'new/renewals': ['new'],\n",
    "    'Grade': ['other grade'],\n",
    "    'Document found': ['no'],\n",
    "    'Electronic': ['no'],\n",
    "    'military, foster child, out of home care, Law enforcement ': ['na'],\n",
    "    'Direct certication': ['no'],\n",
    "    'Owner/operator': ['no'],\n",
    "    'DOB verified': ['na'],\n",
    "    'Month /prior month document date ': ['na'],\n",
    "    'Primary Address/name matched ': ['na'],\n",
    "    'Secondary address/name  match if any': ['na'],\n",
    "    'Total income available': ['na']\n",
    "})"
   ]
  },
  {
   "cell_type": "code",
   "execution_count": 14,
   "id": "bf97b615-be74-496c-9566-f29bb1b13b9d",
   "metadata": {},
   "outputs": [],
   "source": [
    "def check_failure(new_data):\n",
    "    for column in new_data.columns:\n",
    "        if 'fail' in new_data[column].values or 'not satisfied' in new_data[column].values:\n",
    "            return True\n",
    "    return False"
   ]
  },
  {
   "cell_type": "code",
   "execution_count": 15,
   "id": "0b4f0971-39ba-414b-ae7d-61030e4a53f0",
   "metadata": {},
   "outputs": [
    {
     "name": "stdout",
     "output_type": "stream",
     "text": [
      "  Eligible    Queue Application status  Workflow status\n",
      "0  pending  On hold             On hold         on hold\n"
     ]
    }
   ],
   "source": [
    "if check_failure(new_data):\n",
    "    print(\"Output: under review\")\n",
    "else:\n",
    "\n",
    "    # Apply one-hot encoding to the new data\n",
    "    new_data_encoded = pd.get_dummies(new_data)\n",
    "\n",
    "    # Ensure new data has the same columns as X_train\n",
    "    new_data_encoded = new_data_encoded.reindex(columns=X_train.columns, fill_value=0)\n",
    "\n",
    "    # Make predictions on new data\n",
    "    new_predictions = tree_model.predict(new_data_encoded)\n",
    "\n",
    "    # Decode predictions\n",
    "    new_predictions_decoded = pd.DataFrame(columns=y.columns, data=new_predictions)\n",
    "\n",
    "    print(new_predictions_decoded)"
   ]
  },
  {
   "cell_type": "code",
   "execution_count": 16,
   "id": "9d463573-551e-42f1-8bfb-706ee5a8f620",
   "metadata": {},
   "outputs": [
    {
     "data": {
      "text/plain": [
       "['decision_tree_model.pkl']"
      ]
     },
     "execution_count": 16,
     "metadata": {},
     "output_type": "execute_result"
    }
   ],
   "source": [
    "import joblib\n",
    "\n",
    "# Save the entire MultiOutputClassifier model using joblib\n",
    "joblib.dump(tree_model, 'decision_tree_model.pkl')"
   ]
  },
  {
   "cell_type": "code",
   "execution_count": 55,
   "id": "d896760e-2773-4764-96d1-3bd90723271f",
   "metadata": {},
   "outputs": [],
   "source": [
    "dt_classifier = MultiOutputClassifier(DecisionTreeClassifier(class_weight='balanced'))\n",
    "\n",
    "dt_classifier.fit(X_train, y_train)\n",
    "\n",
    "y_pred = dt_classifier.predict(X_test)"
   ]
  },
  {
   "cell_type": "code",
   "execution_count": 56,
   "id": "d1a13a5c-b42d-40f0-90d3-6111d6b69472",
   "metadata": {},
   "outputs": [
    {
     "name": "stdout",
     "output_type": "stream",
     "text": [
      "Accuracy for Eligible: 0.9835748792270531\n",
      "Accuracy for Queue: 1.0\n",
      "Accuracy for Application status : 0.9835748792270531\n",
      "Accuracy for Workflow status: 1.0\n"
     ]
    }
   ],
   "source": [
    "accuracy_scores = {}\n",
    "\n",
    "for target in y_train.columns:\n",
    "    y_train_target = y_train[[target]]\n",
    "    \n",
    "    # Perform cross-validation on the current target variable\n",
    "    scores = cross_val_score(dt_classifier, X_train, y_train_target, cv=4, scoring='accuracy')\n",
    "    \n",
    "    # Compute and store accuracy score for the current target variable\n",
    "    accuracy_scores[target] = scores.mean()\n",
    "\n",
    "# Print accuracy scores for each target variable\n",
    "for target, score in accuracy_scores.items():\n",
    "    print(f\"Accuracy for {target}: {score}\")"
   ]
  },
  {
   "cell_type": "code",
   "execution_count": 57,
   "id": "5fe7db1e-be45-42aa-ac77-eecf55f04202",
   "metadata": {},
   "outputs": [
    {
     "name": "stdout",
     "output_type": "stream",
     "text": [
      "Unique values in y_train:\n",
      "Column 'Eligible': ['pending' 'eligible both' 'Eligible' 'FTC ineligible ' 'na' 'On hold']\n",
      "Column 'Queue': ['Manual' 'na' 'On hold']\n",
      "Column 'Application status ': ['Sensitive note' 'Sensitive note/close' 'On hold' 'on hold']\n",
      "Column 'Workflow status': ['Received na under review' 'Review completed ' 'on hold']\n",
      "Unique values in y_test:\n",
      "Column 'Eligible': ['na' 'pending' 'On hold']\n",
      "Column 'Queue': ['Manual' 'On hold']\n",
      "Column 'Application status ': ['Sensitive note' 'On hold' 'on hold']\n",
      "Column 'Workflow status': ['Received na under review' 'on hold']\n"
     ]
    }
   ],
   "source": [
    "print(\"Unique values in y_train:\")\n",
    "for column_name, column_values in y_train.items():\n",
    "    unique_values = column_values.unique()\n",
    "    print(f\"Column '{column_name}': {unique_values}\")\n",
    "\n",
    "print(\"Unique values in y_test:\")\n",
    "for column_name, column_values in y_test.items():\n",
    "    unique_values = column_values.unique()\n",
    "    print(f\"Column '{column_name}': {unique_values}\")"
   ]
  }
 ],
 "metadata": {
  "kernelspec": {
   "display_name": "Python 3 (ipykernel)",
   "language": "python",
   "name": "python3"
  },
  "language_info": {
   "codemirror_mode": {
    "name": "ipython",
    "version": 3
   },
   "file_extension": ".py",
   "mimetype": "text/x-python",
   "name": "python",
   "nbconvert_exporter": "python",
   "pygments_lexer": "ipython3",
   "version": "3.11.7"
  }
 },
 "nbformat": 4,
 "nbformat_minor": 5
}
