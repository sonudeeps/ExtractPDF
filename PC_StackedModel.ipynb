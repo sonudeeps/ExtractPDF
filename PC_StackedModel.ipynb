{
 "cells": [
  {
   "cell_type": "code",
   "execution_count": 12,
   "id": "715ac79b-a1ae-4fdf-a681-f71de100644f",
   "metadata": {},
   "outputs": [],
   "source": [
    "import pandas as pd\n",
    "from sklearn.utils import resample\n",
    "from sklearn.model_selection import train_test_split, GridSearchCV, RandomizedSearchCV\n",
    "from sklearn.metrics import accuracy_score, classification_report, precision_score, recall_score, f1_score, confusion_matrix"
   ]
  },
  {
   "cell_type": "code",
   "execution_count": 13,
   "id": "5fcf572e-91c1-4259-9003-0be9a8781151",
   "metadata": {},
   "outputs": [],
   "source": [
    "df = pd.read_excel(r'C:\\Users\\pawvaibh\\Downloads\\product classification.xlsx')\n",
    "df1=df.copy()\n",
    "df2=df1.copy()"
   ]
  },
  {
   "cell_type": "code",
   "execution_count": 14,
   "id": "0a0d9503-7348-40eb-9d91-5b2533fcef4c",
   "metadata": {},
   "outputs": [],
   "source": [
    "df.drop_duplicates(inplace=True)\n",
    "df1.drop_duplicates(inplace=True)"
   ]
  },
  {
   "cell_type": "code",
   "execution_count": 15,
   "id": "fc10e6bf-9829-456c-93ce-dae3fbe247e5",
   "metadata": {},
   "outputs": [],
   "source": [
    "df.drop(columns=['ProductId', 'CustomerId', 'CustomerName', 'ProductName', 'SterilizationMethodName', 'MachineTypeName', 'ItemTypeName','SpecialtyName'], inplace=True)\n",
    "df1.drop(columns=['ProductId', 'CustomerId', 'CustomerName', 'ProductName', 'SterilizationMethodName', 'MachineTypeName', 'ItemTypeName','SpecialtyName'], inplace=True)"
   ]
  },
  {
   "cell_type": "code",
   "execution_count": 11,
   "id": "13ef4bc5-1242-4c11-9e30-1f2d00d6e3a1",
   "metadata": {},
   "outputs": [],
   "source": [
    "# Use to_excel() method to save DataFrame to Excel\n",
    "file_path = r'C:\\Users\\pawvaibh\\Downloads\\With_ProductId.xlsx'\n",
    "df.to_excel(file_path, index=False)"
   ]
  },
  {
   "cell_type": "code",
   "execution_count": 16,
   "id": "0e45e91a-d7d8-45b5-a15b-aff37cd8f649",
   "metadata": {},
   "outputs": [
    {
     "data": {
      "text/html": [
       "<div>\n",
       "<style scoped>\n",
       "    .dataframe tbody tr th:only-of-type {\n",
       "        vertical-align: middle;\n",
       "    }\n",
       "\n",
       "    .dataframe tbody tr th {\n",
       "        vertical-align: top;\n",
       "    }\n",
       "\n",
       "    .dataframe thead th {\n",
       "        text-align: right;\n",
       "    }\n",
       "</style>\n",
       "<table border=\"1\" class=\"dataframe\">\n",
       "  <thead>\n",
       "    <tr style=\"text-align: right;\">\n",
       "      <th></th>\n",
       "      <th>SterilizationMethodId</th>\n",
       "      <th>MachineTypeId</th>\n",
       "      <th>ItemTypeId</th>\n",
       "      <th>SpecialtyId</th>\n",
       "      <th>CategoryName</th>\n",
       "    </tr>\n",
       "  </thead>\n",
       "  <tbody>\n",
       "    <tr>\n",
       "      <th>0</th>\n",
       "      <td>26</td>\n",
       "      <td>2</td>\n",
       "      <td>4</td>\n",
       "      <td>31</td>\n",
       "      <td>Flexible Scope</td>\n",
       "    </tr>\n",
       "    <tr>\n",
       "      <th>13</th>\n",
       "      <td>0</td>\n",
       "      <td>2</td>\n",
       "      <td>4</td>\n",
       "      <td>31</td>\n",
       "      <td>Rigid Scope</td>\n",
       "    </tr>\n",
       "    <tr>\n",
       "      <th>18</th>\n",
       "      <td>0</td>\n",
       "      <td>2</td>\n",
       "      <td>4</td>\n",
       "      <td>31</td>\n",
       "      <td>Power System</td>\n",
       "    </tr>\n",
       "    <tr>\n",
       "      <th>27</th>\n",
       "      <td>26</td>\n",
       "      <td>2</td>\n",
       "      <td>4</td>\n",
       "      <td>31</td>\n",
       "      <td>Instrument</td>\n",
       "    </tr>\n",
       "    <tr>\n",
       "      <th>31</th>\n",
       "      <td>26</td>\n",
       "      <td>2</td>\n",
       "      <td>4</td>\n",
       "      <td>31</td>\n",
       "      <td>Rigid Scope</td>\n",
       "    </tr>\n",
       "  </tbody>\n",
       "</table>\n",
       "</div>"
      ],
      "text/plain": [
       "    SterilizationMethodId  MachineTypeId  ItemTypeId  SpecialtyId  \\\n",
       "0                      26              2           4           31   \n",
       "13                      0              2           4           31   \n",
       "18                      0              2           4           31   \n",
       "27                     26              2           4           31   \n",
       "31                     26              2           4           31   \n",
       "\n",
       "      CategoryName  \n",
       "0   Flexible Scope  \n",
       "13     Rigid Scope  \n",
       "18    Power System  \n",
       "27      Instrument  \n",
       "31     Rigid Scope  "
      ]
     },
     "execution_count": 16,
     "metadata": {},
     "output_type": "execute_result"
    }
   ],
   "source": [
    "df.head()"
   ]
  },
  {
   "cell_type": "code",
   "execution_count": 10,
   "id": "2ed7913b-7161-4f7c-a09e-6f8dde657df3",
   "metadata": {},
   "outputs": [
    {
     "data": {
      "text/plain": [
       "CategoryName\n",
       "Instrument        5501\n",
       "Power System       943\n",
       "Rigid Scope        845\n",
       "Flexible Scope     274\n",
       "Video              103\n",
       "Ultrasound          74\n",
       "Ophthalmic          24\n",
       "Endocam             13\n",
       "Name: count, dtype: int64"
      ]
     },
     "execution_count": 10,
     "metadata": {},
     "output_type": "execute_result"
    }
   ],
   "source": [
    "# Group by CategoryName and count occurrences\n",
    "category_counts = df['CategoryName'].value_counts()\n",
    "category_counts"
   ]
  },
  {
   "cell_type": "code",
   "execution_count": 45,
   "id": "041c3ae7-1292-40ea-b143-b1d367c349bc",
   "metadata": {},
   "outputs": [],
   "source": [
    "# Combine categories except \"Instrument\" into one category called \"Other\"\n",
    "df.loc[~df['CategoryName'].isin(['Instrument']), 'CategoryName'] = 'Others'"
   ]
  },
  {
   "cell_type": "code",
   "execution_count": 46,
   "id": "3260dd8a-6c51-407a-a664-773aa4aaa6f0",
   "metadata": {},
   "outputs": [
    {
     "data": {
      "text/plain": [
       "(5501, 2276)"
      ]
     },
     "execution_count": 46,
     "metadata": {},
     "output_type": "execute_result"
    }
   ],
   "source": [
    "# Calculate the total count of Instrument and Other categories\n",
    "total_instrument_count = df[df['CategoryName'] == 'Instrument'].shape[0]\n",
    "total_other_count = df[df['CategoryName'] == 'Others'].shape[0]\n",
    "\n",
    "total_instrument_count, total_other_count"
   ]
  },
  {
   "cell_type": "code",
   "execution_count": 47,
   "id": "a4953bf4-52e1-484e-83ca-920c2b971f86",
   "metadata": {},
   "outputs": [
    {
     "data": {
      "text/plain": [
       "(3414.0, 2276)"
      ]
     },
     "execution_count": 47,
     "metadata": {},
     "output_type": "execute_result"
    }
   ],
   "source": [
    "# Calculate the target counts after downsampling\n",
    "target_instrument_count = (total_other_count / 0.4) * 0.6\n",
    "target_other_count = total_other_count\n",
    "\n",
    "target_instrument_count, target_other_count"
   ]
  },
  {
   "cell_type": "code",
   "execution_count": 48,
   "id": "2c4e6967-25b8-43ce-a0c8-0d1a2407ad09",
   "metadata": {},
   "outputs": [],
   "source": [
    "# Downsample Instrument category\n",
    "instrument_df = df[df['CategoryName'] == 'Instrument']\n",
    "# removed_records_df = df[df['CategoryName'] != 'Instrument']  # Store removed records for validation\n",
    "downsampled_instrument_df = resample(instrument_df, \n",
    "                                     replace=False,  # Without replacement\n",
    "                                     n_samples=int(target_instrument_count),\n",
    "                                     random_state=42)\n"
   ]
  },
  {
   "cell_type": "code",
   "execution_count": 49,
   "id": "8116a0ef-2cc2-43bd-a486-c6c16ef72c7d",
   "metadata": {},
   "outputs": [],
   "source": [
    "# Combine downsampled Instrument category with Other category\n",
    "final_df = pd.concat([downsampled_instrument_df, df[df['CategoryName'] == 'Others']])"
   ]
  },
  {
   "cell_type": "code",
   "execution_count": 50,
   "id": "2f58f96f-5060-4ece-8e08-173394884a4a",
   "metadata": {},
   "outputs": [
    {
     "data": {
      "text/html": [
       "<div>\n",
       "<style scoped>\n",
       "    .dataframe tbody tr th:only-of-type {\n",
       "        vertical-align: middle;\n",
       "    }\n",
       "\n",
       "    .dataframe tbody tr th {\n",
       "        vertical-align: top;\n",
       "    }\n",
       "\n",
       "    .dataframe thead th {\n",
       "        text-align: right;\n",
       "    }\n",
       "</style>\n",
       "<table border=\"1\" class=\"dataframe\">\n",
       "  <thead>\n",
       "    <tr style=\"text-align: right;\">\n",
       "      <th></th>\n",
       "      <th>SterilizationMethodId</th>\n",
       "      <th>MachineTypeId</th>\n",
       "      <th>ItemTypeId</th>\n",
       "      <th>SpecialtyId</th>\n",
       "      <th>CategoryName</th>\n",
       "    </tr>\n",
       "  </thead>\n",
       "  <tbody>\n",
       "    <tr>\n",
       "      <th>102072</th>\n",
       "      <td>4</td>\n",
       "      <td>2</td>\n",
       "      <td>5</td>\n",
       "      <td>32</td>\n",
       "      <td>Instrument</td>\n",
       "    </tr>\n",
       "    <tr>\n",
       "      <th>26622</th>\n",
       "      <td>10</td>\n",
       "      <td>2</td>\n",
       "      <td>4</td>\n",
       "      <td>57</td>\n",
       "      <td>Instrument</td>\n",
       "    </tr>\n",
       "    <tr>\n",
       "      <th>109974</th>\n",
       "      <td>14</td>\n",
       "      <td>2</td>\n",
       "      <td>4</td>\n",
       "      <td>33</td>\n",
       "      <td>Instrument</td>\n",
       "    </tr>\n",
       "    <tr>\n",
       "      <th>98249</th>\n",
       "      <td>41</td>\n",
       "      <td>2</td>\n",
       "      <td>4</td>\n",
       "      <td>22</td>\n",
       "      <td>Instrument</td>\n",
       "    </tr>\n",
       "    <tr>\n",
       "      <th>40035</th>\n",
       "      <td>53</td>\n",
       "      <td>2</td>\n",
       "      <td>4</td>\n",
       "      <td>32</td>\n",
       "      <td>Instrument</td>\n",
       "    </tr>\n",
       "    <tr>\n",
       "      <th>...</th>\n",
       "      <td>...</td>\n",
       "      <td>...</td>\n",
       "      <td>...</td>\n",
       "      <td>...</td>\n",
       "      <td>...</td>\n",
       "    </tr>\n",
       "    <tr>\n",
       "      <th>115735</th>\n",
       "      <td>14</td>\n",
       "      <td>1</td>\n",
       "      <td>4</td>\n",
       "      <td>61</td>\n",
       "      <td>Others</td>\n",
       "    </tr>\n",
       "    <tr>\n",
       "      <th>115776</th>\n",
       "      <td>53</td>\n",
       "      <td>1</td>\n",
       "      <td>4</td>\n",
       "      <td>32</td>\n",
       "      <td>Others</td>\n",
       "    </tr>\n",
       "    <tr>\n",
       "      <th>115784</th>\n",
       "      <td>2</td>\n",
       "      <td>1</td>\n",
       "      <td>1</td>\n",
       "      <td>27</td>\n",
       "      <td>Others</td>\n",
       "    </tr>\n",
       "    <tr>\n",
       "      <th>115817</th>\n",
       "      <td>14</td>\n",
       "      <td>1</td>\n",
       "      <td>4</td>\n",
       "      <td>32</td>\n",
       "      <td>Others</td>\n",
       "    </tr>\n",
       "    <tr>\n",
       "      <th>115879</th>\n",
       "      <td>0</td>\n",
       "      <td>1</td>\n",
       "      <td>4</td>\n",
       "      <td>36</td>\n",
       "      <td>Others</td>\n",
       "    </tr>\n",
       "  </tbody>\n",
       "</table>\n",
       "<p>5690 rows × 5 columns</p>\n",
       "</div>"
      ],
      "text/plain": [
       "        SterilizationMethodId  MachineTypeId  ItemTypeId  SpecialtyId  \\\n",
       "102072                      4              2           5           32   \n",
       "26622                      10              2           4           57   \n",
       "109974                     14              2           4           33   \n",
       "98249                      41              2           4           22   \n",
       "40035                      53              2           4           32   \n",
       "...                       ...            ...         ...          ...   \n",
       "115735                     14              1           4           61   \n",
       "115776                     53              1           4           32   \n",
       "115784                      2              1           1           27   \n",
       "115817                     14              1           4           32   \n",
       "115879                      0              1           4           36   \n",
       "\n",
       "       CategoryName  \n",
       "102072   Instrument  \n",
       "26622    Instrument  \n",
       "109974   Instrument  \n",
       "98249    Instrument  \n",
       "40035    Instrument  \n",
       "...             ...  \n",
       "115735       Others  \n",
       "115776       Others  \n",
       "115784       Others  \n",
       "115817       Others  \n",
       "115879       Others  \n",
       "\n",
       "[5690 rows x 5 columns]"
      ]
     },
     "execution_count": 50,
     "metadata": {},
     "output_type": "execute_result"
    }
   ],
   "source": [
    "final_df"
   ]
  },
  {
   "cell_type": "code",
   "execution_count": 52,
   "id": "485a6bd2-b1e1-4597-be40-7ce2bf2a8831",
   "metadata": {},
   "outputs": [
    {
     "name": "stdout",
     "output_type": "stream",
     "text": [
      "\n",
      "Removed Records (Validation Dataset):\n",
      "        SterilizationMethodId  MachineTypeId  ItemTypeId  SpecialtyId  \\\n",
      "175                         0              2           4           17   \n",
      "212                        26              1           4           32   \n",
      "232                        26              2           4           22   \n",
      "328                        60              2           4           27   \n",
      "369                        14              2           4           57   \n",
      "...                       ...            ...         ...          ...   \n",
      "115790                     14              2           4           32   \n",
      "115878                     14              2           4           32   \n",
      "115880                     14              2           4           27   \n",
      "115891                     14              2           4           61   \n",
      "115906                     14              2           4           61   \n",
      "\n",
      "       CategoryName  \n",
      "175      Instrument  \n",
      "212      Instrument  \n",
      "232      Instrument  \n",
      "328      Instrument  \n",
      "369      Instrument  \n",
      "...             ...  \n",
      "115790   Instrument  \n",
      "115878   Instrument  \n",
      "115880   Instrument  \n",
      "115891   Instrument  \n",
      "115906   Instrument  \n",
      "\n",
      "[2087 rows x 5 columns]\n"
     ]
    }
   ],
   "source": [
    "# Removed records (validation dataset)\n",
    "removed_records_df = df[~df.index.isin(final_df.index)]\n",
    "print(\"\\nRemoved Records (Validation Dataset):\")\n",
    "print(removed_records_df)"
   ]
  },
  {
   "cell_type": "code",
   "execution_count": 14,
   "id": "7742897d-bcc8-440c-8ce9-33f09d030c99",
   "metadata": {},
   "outputs": [],
   "source": [
    "# Separate features and target variable\n",
    "X = final_df.drop(columns=['CategoryName'])\n",
    "y = final_df['CategoryName']"
   ]
  },
  {
   "cell_type": "code",
   "execution_count": 15,
   "id": "e22f1f47-0083-4290-abc9-10813696cb6e",
   "metadata": {},
   "outputs": [
    {
     "data": {
      "text/plain": [
       "102072    Instrument\n",
       "26622     Instrument\n",
       "109974    Instrument\n",
       "98249     Instrument\n",
       "40035     Instrument\n",
       "             ...    \n",
       "115735        Others\n",
       "115776        Others\n",
       "115784        Others\n",
       "115817        Others\n",
       "115879        Others\n",
       "Name: CategoryName, Length: 5690, dtype: object"
      ]
     },
     "execution_count": 15,
     "metadata": {},
     "output_type": "execute_result"
    }
   ],
   "source": [
    "y"
   ]
  },
  {
   "cell_type": "code",
   "execution_count": 16,
   "id": "3b1575ef-9f3d-407b-b786-fb51359c7e33",
   "metadata": {},
   "outputs": [],
   "source": [
    "# Split data into training and testing sets\n",
    "X_train, X_test, y_train, y_test = train_test_split(X, y, test_size=0.3, random_state=42)"
   ]
  },
  {
   "cell_type": "code",
   "execution_count": 17,
   "id": "fbd62575-f1e7-4688-afcd-d9357692ff82",
   "metadata": {},
   "outputs": [
    {
     "name": "stdout",
     "output_type": "stream",
     "text": [
      "Accuracy of first model: 0.8042179261862917\n"
     ]
    }
   ],
   "source": [
    "from sklearn.ensemble import RandomForestClassifier, VotingClassifier\n",
    "# Train the first model\n",
    "model_first = RandomForestClassifier(random_state=42)\n",
    "model_first.fit(X, y)\n",
    "\n",
    "# Predict using the first model\n",
    "predictions_first = model_first.predict(X)\n",
    "\n",
    "# Calculate accuracy\n",
    "accuracy_first = accuracy_score(y, predictions_first)\n",
    "print(\"Accuracy of first model:\", accuracy_first)"
   ]
  },
  {
   "cell_type": "code",
   "execution_count": 18,
   "id": "2ad6eca9-1374-4587-b8a5-939ca2822c53",
   "metadata": {},
   "outputs": [
    {
     "name": "stdout",
     "output_type": "stream",
     "text": [
      "Predicted Category: ['Instrument']\n"
     ]
    },
    {
     "name": "stderr",
     "output_type": "stream",
     "text": [
      "C:\\Users\\pawvaibh\\AppData\\Local\\anaconda3\\Lib\\site-packages\\sklearn\\base.py:439: UserWarning: X does not have valid feature names, but RandomForestClassifier was fitted with feature names\n",
      "  warnings.warn(\n"
     ]
    }
   ],
   "source": [
    "# Predict category for new input data\n",
    "new_input = [[14, 2, 4, 32]]  # Example input data\n",
    "predicted_category = model_first.predict(new_input)\n",
    "print(\"Predicted Category:\", predicted_category)"
   ]
  },
  {
   "cell_type": "code",
   "execution_count": 19,
   "id": "5a99e4b5-8b80-4db9-91a6-02d142e5e7aa",
   "metadata": {},
   "outputs": [],
   "source": [
    "# Remove rows where CategoryName is 'Instrument'\n",
    "df_sec = df1[df1['CategoryName'] != 'Instrument']\n",
    "\n",
    "# Replace remaining CategoryNames with 'Others'\n",
    "df_sec.loc[~df_sec['CategoryName'].isin(['Power System', 'Rigid Scope']), 'CategoryName'] = 'Others'"
   ]
  },
  {
   "cell_type": "code",
   "execution_count": 20,
   "id": "6251b67e-b790-4568-8243-04d8f4885ffb",
   "metadata": {},
   "outputs": [
    {
     "data": {
      "text/plain": [
       "(943, 845, 488)"
      ]
     },
     "execution_count": 20,
     "metadata": {},
     "output_type": "execute_result"
    }
   ],
   "source": [
    "# Calculate the total count of Instrument and Other categories\n",
    "total_ps_count = df_sec[df_sec['CategoryName'] == 'Power System'].shape[0]\n",
    "total_rs_count = df_sec[df_sec['CategoryName'] == 'Rigid Scope'].shape[0]\n",
    "total_other_count = df_sec[df_sec['CategoryName'] == 'Others'].shape[0]\n",
    "\n",
    "total_ps_count, total_rs_count, total_other_count"
   ]
  },
  {
   "cell_type": "code",
   "execution_count": 21,
   "id": "e23a87a1-1b82-4f4a-bd46-9f0198c6bbfa",
   "metadata": {},
   "outputs": [],
   "source": [
    "# Separate features and target variable\n",
    "X1 = df_sec.drop(columns=['CategoryName'])\n",
    "y1 = df_sec['CategoryName']"
   ]
  },
  {
   "cell_type": "code",
   "execution_count": 22,
   "id": "9e28b86f-fd1d-4c81-bd05-94b21c6df5a2",
   "metadata": {},
   "outputs": [
    {
     "name": "stdout",
     "output_type": "stream",
     "text": [
      "Accuracy of first model: 0.7328646748681898\n"
     ]
    }
   ],
   "source": [
    "from sklearn.ensemble import RandomForestClassifier, VotingClassifier\n",
    "# Train the sec model\n",
    "model_sec = RandomForestClassifier(random_state=42)\n",
    "model_sec.fit(X1, y1)\n",
    "\n",
    "# Predict using the first model\n",
    "predictions_first = model_sec.predict(X1)\n",
    "\n",
    "# Calculate accuracy\n",
    "accuracy_first = accuracy_score(y1, predictions_first)\n",
    "print(\"Accuracy of first model:\", accuracy_first)"
   ]
  },
  {
   "cell_type": "code",
   "execution_count": 23,
   "id": "51a514c3-fa23-4929-a676-8497a4659705",
   "metadata": {},
   "outputs": [
    {
     "name": "stdout",
     "output_type": "stream",
     "text": [
      "Predicted Category: ['Rigid Scope']\n"
     ]
    },
    {
     "name": "stderr",
     "output_type": "stream",
     "text": [
      "C:\\Users\\pawvaibh\\AppData\\Local\\anaconda3\\Lib\\site-packages\\sklearn\\base.py:439: UserWarning: X does not have valid feature names, but RandomForestClassifier was fitted with feature names\n",
      "  warnings.warn(\n"
     ]
    }
   ],
   "source": [
    "# Predict category for new input data\n",
    "new_input = [[26, 1, 4, 57]]  # Example input data\n",
    "predicted_category = model_sec.predict(new_input)\n",
    "print(\"Predicted Category:\", predicted_category)"
   ]
  },
  {
   "cell_type": "code",
   "execution_count": 24,
   "id": "77dcdb6d-84a7-4d51-b819-ae90b1b8662d",
   "metadata": {},
   "outputs": [],
   "source": [
    "df3=df2.copy()"
   ]
  },
  {
   "cell_type": "code",
   "execution_count": 25,
   "id": "cd6e354f-7a9f-4226-8809-23d374a35ae7",
   "metadata": {},
   "outputs": [],
   "source": [
    "df2.drop_duplicates(inplace=True)\n",
    "df2.drop(columns=['CustomerId','ProductId', 'CustomerName', 'ProductName', 'SterilizationMethodName', 'MachineTypeName', 'ItemTypeName','SpecialtyName'], inplace=True)"
   ]
  },
  {
   "cell_type": "code",
   "execution_count": 26,
   "id": "cbab151c-6c6f-4405-901b-6c415b9660bf",
   "metadata": {},
   "outputs": [],
   "source": [
    "df_thi = df2[~df2['CategoryName'].isin(['Instrument', 'Rigid Scope', 'Power System'])]\n",
    "\n",
    "# Replace remaining CategoryNames with 'Others' if not 'Flexible Scope' or 'Video'\n",
    "df_thi.loc[~df_thi['CategoryName'].isin(['Flexible Scope', 'Video']), 'CategoryName'] = 'Others'"
   ]
  },
  {
   "cell_type": "code",
   "execution_count": 27,
   "id": "088d432b-c781-4171-becd-d717f1ef8d8d",
   "metadata": {},
   "outputs": [],
   "source": [
    "# Separate features and target variable\n",
    "X2 = df_thi.drop(columns=['CategoryName'])\n",
    "y2 = df_thi['CategoryName']"
   ]
  },
  {
   "cell_type": "code",
   "execution_count": 28,
   "id": "312cef74-2da0-4346-a5f4-096b76e11817",
   "metadata": {},
   "outputs": [
    {
     "name": "stdout",
     "output_type": "stream",
     "text": [
      "Accuracy of first model: 0.8688524590163934\n"
     ]
    }
   ],
   "source": [
    "# Train the thi model\n",
    "model_thi = RandomForestClassifier(random_state=42)\n",
    "model_thi.fit(X2, y2)\n",
    "\n",
    "# Predict using the first model\n",
    "predictions_first = model_thi.predict(X2)\n",
    "\n",
    "# Calculate accuracy\n",
    "accuracy_first = accuracy_score(y2, predictions_first)\n",
    "print(\"Accuracy of first model:\", accuracy_first)"
   ]
  },
  {
   "cell_type": "code",
   "execution_count": 29,
   "id": "d28b65ba-8a3a-4915-818e-730b0e479c1e",
   "metadata": {},
   "outputs": [
    {
     "name": "stdout",
     "output_type": "stream",
     "text": [
      "Predicted Category: ['Others']\n"
     ]
    },
    {
     "name": "stderr",
     "output_type": "stream",
     "text": [
      "C:\\Users\\pawvaibh\\AppData\\Local\\anaconda3\\Lib\\site-packages\\sklearn\\base.py:439: UserWarning: X does not have valid feature names, but RandomForestClassifier was fitted with feature names\n",
      "  warnings.warn(\n"
     ]
    }
   ],
   "source": [
    "# Predict category for new input data\n",
    "new_input = [[41, 2, 4, 22]]  # Example input data\n",
    "predicted_category = model_thi.predict(new_input)\n",
    "print(\"Predicted Category:\", predicted_category)"
   ]
  },
  {
   "cell_type": "code",
   "execution_count": 30,
   "id": "98769a64-74d0-40a2-acd0-3b21713a0e96",
   "metadata": {},
   "outputs": [],
   "source": [
    "df4=df3.copy()\n",
    "df3.drop_duplicates(inplace=True)\n",
    "df3.drop(columns=['CustomerId','ProductId', 'CustomerName', 'ProductName', 'SterilizationMethodName', 'MachineTypeName', 'ItemTypeName','SpecialtyName'], inplace=True)"
   ]
  },
  {
   "cell_type": "code",
   "execution_count": 31,
   "id": "a43c7b86-095a-4a0c-b940-3418715a2296",
   "metadata": {},
   "outputs": [],
   "source": [
    "df_last = df3[df3['CategoryName'].isin(['Ultrasound', 'Opthamlmic', 'Endocam'])]"
   ]
  },
  {
   "cell_type": "code",
   "execution_count": 32,
   "id": "4c43c1ad-9c8d-48bf-8b7f-d848b35b576a",
   "metadata": {},
   "outputs": [],
   "source": [
    "# Separate features and target variable\n",
    "X3 = df_last.drop(columns=['CategoryName'])\n",
    "y3 = df_last['CategoryName']"
   ]
  },
  {
   "cell_type": "code",
   "execution_count": 33,
   "id": "26040063-cd35-4cc1-90bc-3277d41dd196",
   "metadata": {},
   "outputs": [
    {
     "name": "stdout",
     "output_type": "stream",
     "text": [
      "Accuracy of first model: 0.9770114942528736\n"
     ]
    }
   ],
   "source": [
    "# Train the thi model\n",
    "model_last = RandomForestClassifier(random_state=42)\n",
    "model_last.fit(X3, y3)\n",
    "\n",
    "# Predict using the first model\n",
    "predictions_first = model_last.predict(X3)\n",
    "\n",
    "# Calculate accuracy\n",
    "accuracy_first = accuracy_score(y3, predictions_first)\n",
    "print(\"Accuracy of first model:\", accuracy_first)"
   ]
  },
  {
   "cell_type": "code",
   "execution_count": 34,
   "id": "a5be0719-acd8-47d3-ac92-ab20b23cdd05",
   "metadata": {},
   "outputs": [
    {
     "name": "stdout",
     "output_type": "stream",
     "text": [
      "Predicted Category: ['Endocam']\n"
     ]
    },
    {
     "name": "stderr",
     "output_type": "stream",
     "text": [
      "C:\\Users\\pawvaibh\\AppData\\Local\\anaconda3\\Lib\\site-packages\\sklearn\\base.py:439: UserWarning: X does not have valid feature names, but RandomForestClassifier was fitted with feature names\n",
      "  warnings.warn(\n"
     ]
    }
   ],
   "source": [
    "# Predict category for new input data\n",
    "new_input = [[14, 2, 4, 61]]  # Example input data\n",
    "predicted_category = model_last.predict(new_input)\n",
    "print(\"Predicted Category:\", predicted_category)"
   ]
  },
  {
   "cell_type": "code",
   "execution_count": 35,
   "id": "e50fa2b8-48b9-4d38-b743-ee48c4595ffe",
   "metadata": {},
   "outputs": [
    {
     "name": "stdout",
     "output_type": "stream",
     "text": [
      "Model 1:\n",
      "Training Accuracy: 0.8075571177504394\n",
      "Testing Accuracy: 0.7671353251318102\n",
      "Precision: 0.7676402508465207\n",
      "Recall: 0.7671353251318102\n",
      "F1 Score: 0.7589518522880316\n",
      "Predicted Category from Model 1: ['Others']\n",
      "\n",
      "Model 2:\n"
     ]
    },
    {
     "name": "stderr",
     "output_type": "stream",
     "text": [
      "C:\\Users\\pawvaibh\\AppData\\Local\\anaconda3\\Lib\\site-packages\\sklearn\\base.py:439: UserWarning: X does not have valid feature names, but RandomForestClassifier was fitted with feature names\n",
      "  warnings.warn(\n"
     ]
    },
    {
     "name": "stdout",
     "output_type": "stream",
     "text": [
      "Training Accuracy: 0.7611721611721611\n",
      "Testing Accuracy: 0.5828759604829857\n",
      "Precision: 0.5720387461916867\n",
      "Recall: 0.5828759604829857\n",
      "F1 Score: 0.5729608781999274\n",
      "Predicted Category from Model 2: ['Others']\n",
      "\n",
      "Model 3:\n",
      "Training Accuracy: 0.8767123287671232\n",
      "Testing Accuracy: 0.6530612244897959\n",
      "Precision: 0.6392447088935735\n",
      "Recall: 0.6530612244897959\n",
      "F1 Score: 0.641194659237876\n",
      "Final Predicted Category from Model 3: ['Others']\n",
      "\n",
      "Model 4:\n"
     ]
    },
    {
     "name": "stderr",
     "output_type": "stream",
     "text": [
      "C:\\Users\\pawvaibh\\AppData\\Local\\anaconda3\\Lib\\site-packages\\sklearn\\base.py:439: UserWarning: X does not have valid feature names, but RandomForestClassifier was fitted with feature names\n",
      "  warnings.warn(\n",
      "C:\\Users\\pawvaibh\\AppData\\Local\\anaconda3\\Lib\\site-packages\\sklearn\\base.py:439: UserWarning: X does not have valid feature names, but RandomForestClassifier was fitted with feature names\n",
      "  warnings.warn(\n"
     ]
    },
    {
     "name": "stdout",
     "output_type": "stream",
     "text": [
      "Training Accuracy: 0.9807692307692307\n",
      "Testing Accuracy: 0.8\n",
      "Precision: 0.813265306122449\n",
      "Recall: 0.8\n",
      "F1 Score: 0.8059379217273954\n",
      "Final Predicted Category from Model 4: ['Endocam']\n"
     ]
    },
    {
     "name": "stderr",
     "output_type": "stream",
     "text": [
      "C:\\Users\\pawvaibh\\AppData\\Local\\anaconda3\\Lib\\site-packages\\sklearn\\base.py:439: UserWarning: X does not have valid feature names, but RandomForestClassifier was fitted with feature names\n",
      "  warnings.warn(\n"
     ]
    }
   ],
   "source": [
    "import pandas as pd\n",
    "from sklearn.ensemble import RandomForestClassifier\n",
    "from sklearn.utils import resample\n",
    "from sklearn.metrics import accuracy_score\n",
    "\n",
    "# Read the data\n",
    "df = pd.read_excel(r'C:\\Users\\pawvaibh\\Downloads\\product classification.xlsx')\n",
    "\n",
    "# Function to preprocess data\n",
    "def preprocess_data(df):\n",
    "    df.drop_duplicates(inplace=True)\n",
    "    df.drop(columns=['CustomerId','ProductId', 'CustomerName', 'ProductName', 'SterilizationMethodName', 'MachineTypeName', 'ItemTypeName','SpecialtyName'], inplace=True)\n",
    "    return df\n",
    "\n",
    "# Combine categories except \"Instrument\" into one category called \"Others\"\n",
    "def combine_categories(df):\n",
    "    df.loc[~df['CategoryName'].isin(['Instrument']), 'CategoryName'] = 'Others'\n",
    "    return df\n",
    "\n",
    "# Downsample Instrument category\n",
    "def downsample_instrument(df, target_instrument_count):\n",
    "    instrument_df = df[df['CategoryName'] == 'Instrument']\n",
    "    downsampled_instrument_df = resample(instrument_df, replace=False, n_samples=int(target_instrument_count), random_state=42)\n",
    "    final_df = pd.concat([downsampled_instrument_df, df[df['CategoryName'] == 'Others']])\n",
    "    return final_df\n",
    "\n",
    "#Train and test split\n",
    "def train_and_test(df):\n",
    "    train_df, test_df = train_test_split(df, test_size=0.4, random_state=42)\n",
    "    return train_df, test_df\n",
    "\n",
    "def segregate(train_df, test_df):\n",
    "    X_train = train_df.drop(columns=['CategoryName'])\n",
    "    y_train = train_df['CategoryName']\n",
    "    X_test = test_df.drop(columns=['CategoryName'])\n",
    "    y_test = test_df['CategoryName']\n",
    "    return X_train, y_train, X_test, y_test\n",
    "    \n",
    "# Train and evaluate RandomForestClassifier\n",
    "def train_and_evaluate_model(X_train, y_train, X_test, y_test):\n",
    "    model = RandomForestClassifier(random_state=42)\n",
    "    model.fit(X_train, y_train)\n",
    "    \n",
    "    # Predict on the training and testing data\n",
    "    train_predictions = model.predict(X_train)\n",
    "    test_predictions = model.predict(X_test)\n",
    "    \n",
    "    # Calculate accuracy for training and testing data\n",
    "    train_accuracy = accuracy_score(y_train, train_predictions)\n",
    "    test_accuracy = accuracy_score(y_test, test_predictions)\n",
    "\n",
    "    precision = precision_score(y_test, test_predictions, average='weighted')\n",
    "    recall = recall_score(y_test, test_predictions, average='weighted')\n",
    "    f1 = f1_score(y_test, test_predictions, average='weighted')\n",
    "    \n",
    "    print(\"Training Accuracy:\", train_accuracy)\n",
    "    print(\"Testing Accuracy:\", test_accuracy)\n",
    "    print(\"Precision:\", precision)\n",
    "    print(\"Recall:\", recall)\n",
    "    print(\"F1 Score:\", f1)\n",
    "    \n",
    "    return model, test_predictions\n",
    "\n",
    "# Preprocess the data\n",
    "df1 = preprocess_data(df.copy())\n",
    "df2 = preprocess_data(df.copy())\n",
    "df3 = preprocess_data(df.copy())\n",
    "df4 = preprocess_data(df.copy())\n",
    "\n",
    "# Model 1: Classify Instrument vs. Others\n",
    "df1 = combine_categories(df1)\n",
    "\n",
    "# Calculate target instrument count\n",
    "total_instrument_count = df1[df1['CategoryName'] == 'Instrument'].shape[0]\n",
    "total_other_count = df1[df1['CategoryName'] == 'Others'].shape[0]\n",
    "target_instrument_count = (total_other_count / 0.4) * 0.6\n",
    "\n",
    "df1 = downsample_instrument(df1, target_instrument_count)\n",
    "\n",
    "# Split data into train and test sets\n",
    "train_df1, test_df1 = train_and_test(df1)\n",
    "\n",
    "X1_train, y1_train, X1_test, y1_test = segregate(train_df1, test_df1)\n",
    "\n",
    "print(\"Model 1:\")\n",
    "\n",
    "model_first, test_predictions_1 = train_and_evaluate_model(X1_train, y1_train, X1_test, y1_test)\n",
    "\n",
    "# Predict category for new input data\n",
    "new_input = [[53, 1, 4, 40]]  # Example input data #53,1,4,40\n",
    "predicted_category = model_first.predict(new_input)\n",
    "print(\"Predicted Category from Model 1:\", predicted_category)\n",
    "\n",
    "if predicted_category == 'Others':\n",
    "    # Model 2: Classify Power System, Rigid Scope vs. Others\n",
    "    df2 = df2[~df2['CategoryName'].isin(['Instrument'])]\n",
    "    df2.loc[~df2['CategoryName'].isin(['Power System', 'Rigid Scope']), 'CategoryName'] = 'Others'\n",
    "\n",
    "    train_df2, test_df2 = train_and_test(df2)\n",
    "\n",
    "    X2_train, y2_train, X2_test, y2_test = segregate(train_df2, test_df2)\n",
    " \n",
    "    print(\"\\nModel 2:\")\n",
    "    model_sec, test_predictions_2 = train_and_evaluate_model(X2_train, y2_train, X2_test, y2_test)\n",
    "    \n",
    "    predicted_category = model_sec.predict(new_input)\n",
    "    print(\"Predicted Category from Model 2:\", predicted_category)\n",
    "    \n",
    "    if predicted_category == 'Others':\n",
    "        # Model 3: Classify Flexible Scope, Video Vs. Others\n",
    "        df3 = df3[~df3['CategoryName'].isin(['Instrument', 'Rigid Scope', 'Power System'])]\n",
    "        df3.loc[~df3['CategoryName'].isin(['Flexible Scope', 'Video']), 'CategoryName'] = 'Others'\n",
    "\n",
    "        train_df3, test_df3 = train_and_test(df3)\n",
    "\n",
    "        X3_train, y3_train, X3_test, y3_test = segregate(train_df3, test_df3)\n",
    "     \n",
    "        print(\"\\nModel 3:\")\n",
    "        model_third, test_predictions_3 = train_and_evaluate_model(X3_train, y3_train, X3_test, y3_test)\n",
    "        \n",
    "        predicted_category = model_third.predict(new_input)\n",
    "        print(\"Final Predicted Category from Model 3:\", predicted_category)\n",
    "\n",
    "        if predicted_category == 'Others':\n",
    "            # Model 4: Classify 'Ultrasound', 'Opthamlmic', 'Endocam'\n",
    "            df4 = df4[df4['CategoryName'].isin(['Ultrasound', 'Opthamlmic', 'Endocam'])]\n",
    "\n",
    "            train_df4, test_df4 = train_and_test(df4)\n",
    "\n",
    "            X4_train, y4_train, X4_test, y4_test = segregate(train_df4, test_df4)\n",
    "  \n",
    "            print(\"\\nModel 4:\")\n",
    "            model_last, test_predictions_4 = train_and_evaluate_model(X4_train, y4_train, X4_test, y4_test)\n",
    "        \n",
    "            predicted_category = model_last.predict(new_input)\n",
    "            print(\"Final Predicted Category from Model 4:\", predicted_category)\n",
    "\n",
    "        else:\n",
    "            print(\"Final Predicted Category from Model 3:\", predicted_category)\n",
    "    else:\n",
    "        print(\"Final Predicted Category from Model 2:\", predicted_category)\n",
    "else:\n",
    "    print(\"Final Predicted Category from Model 1:\", predicted_category)\n",
    "    "
   ]
  },
  {
   "cell_type": "code",
   "execution_count": null,
   "id": "f24d6dff-31d8-44e3-8d9f-8b1b2446d2b9",
   "metadata": {},
   "outputs": [],
   "source": []
  },
  {
   "cell_type": "code",
   "execution_count": null,
   "id": "a2bd329b-be32-4eb9-87a2-bef7f918845b",
   "metadata": {},
   "outputs": [],
   "source": []
  },
  {
   "cell_type": "code",
   "execution_count": 36,
   "id": "6ba35aeb-e208-4bbf-be32-2571732f691e",
   "metadata": {},
   "outputs": [
    {
     "name": "stdout",
     "output_type": "stream",
     "text": [
      "Model 1:\n",
      "Accuracy: 0.8042179261862917\n",
      "\n",
      "Model 2:\n",
      "Accuracy: 0.7328646748681898\n",
      "\n",
      "Model 3:\n",
      "Accuracy: 0.8688524590163934\n",
      "\n",
      "Model 4:\n",
      "Accuracy: 0.9770114942528736\n",
      "Predicted Category from Model 1: ['Instrument']\n",
      "Final Predicted Category from Model 1: ['Instrument']\n"
     ]
    },
    {
     "name": "stderr",
     "output_type": "stream",
     "text": [
      "C:\\Users\\pawvaibh\\AppData\\Local\\anaconda3\\Lib\\site-packages\\sklearn\\base.py:439: UserWarning: X does not have valid feature names, but RandomForestClassifier was fitted with feature names\n",
      "  warnings.warn(\n"
     ]
    }
   ],
   "source": [
    "import pandas as pd\n",
    "from sklearn.ensemble import RandomForestClassifier\n",
    "from sklearn.utils import resample\n",
    "from sklearn.metrics import accuracy_score\n",
    "\n",
    "# Read the data\n",
    "df = pd.read_excel(r'C:\\Users\\pawvaibh\\Downloads\\product classification.xlsx')\n",
    "\n",
    "# Function to preprocess data\n",
    "def preprocess_data(df):\n",
    "    df.drop_duplicates(inplace=True)\n",
    "    df.drop(columns=['CustomerId','ProductId', 'CustomerName', 'ProductName', 'SterilizationMethodName', 'MachineTypeName', 'ItemTypeName','SpecialtyName'], inplace=True)\n",
    "    return df\n",
    "\n",
    "# Combine categories except \"Instrument\" into one category called \"Others\"\n",
    "def combine_categories(df):\n",
    "    df.loc[~df['CategoryName'].isin(['Instrument']), 'CategoryName'] = 'Others'\n",
    "    return df\n",
    "\n",
    "# Downsample Instrument category\n",
    "def downsample_instrument(df, target_instrument_count):\n",
    "    instrument_df = df[df['CategoryName'] == 'Instrument']\n",
    "    downsampled_instrument_df = resample(instrument_df, replace=False, n_samples=int(target_instrument_count), random_state=42)\n",
    "    final_df = pd.concat([downsampled_instrument_df, df[df['CategoryName'] == 'Others']])\n",
    "    return final_df\n",
    "\n",
    "# Train and evaluate RandomForestClassifier\n",
    "def train_and_evaluate_model(X, y):\n",
    "    model = RandomForestClassifier(random_state=42)\n",
    "    model.fit(X, y)\n",
    "    predictions = model.predict(X)\n",
    "    accuracy = accuracy_score(y, predictions)\n",
    "    print(\"Accuracy:\", accuracy)\n",
    "    return model\n",
    "\n",
    "# Preprocess the data\n",
    "df1 = preprocess_data(df.copy())\n",
    "df2 = preprocess_data(df.copy())\n",
    "df3 = preprocess_data(df.copy())\n",
    "df4 = preprocess_data(df.copy())\n",
    "\n",
    "# Model 1: Classify Instrument vs. Others\n",
    "df1 = combine_categories(df1)\n",
    "\n",
    "# Calculate target instrument count\n",
    "total_instrument_count = df1[df1['CategoryName'] == 'Instrument'].shape[0]\n",
    "total_other_count = df1[df1['CategoryName'] == 'Others'].shape[0]\n",
    "target_instrument_count = (total_other_count / 0.4) * 0.6\n",
    "\n",
    "df1 = downsample_instrument(df1, target_instrument_count)\n",
    "X1 = df1.drop(columns=['CategoryName'])\n",
    "y1 = df1['CategoryName']\n",
    "print(\"Model 1:\")\n",
    "model_first = train_and_evaluate_model(X1, y1)\n",
    "\n",
    "# Model 2: Classify Power System, Rigid Scope vs. Others\n",
    "df2 = df2[~df2['CategoryName'].isin(['Instrument'])]\n",
    "df2.loc[~df2['CategoryName'].isin(['Power System', 'Rigid Scope']), 'CategoryName'] = 'Others'\n",
    "X2 = df2.drop(columns=['CategoryName'])\n",
    "y2 = df2['CategoryName']\n",
    "print(\"\\nModel 2:\")\n",
    "model_sec = train_and_evaluate_model(X2, y2)\n",
    "\n",
    "# Model 3: Classify Flexible Scope, Video Vs. Others\n",
    "df3 = df3[~df3['CategoryName'].isin(['Instrument', 'Rigid Scope', 'Power System'])]\n",
    "df3.loc[~df3['CategoryName'].isin(['Flexible Scope', 'Video']), 'CategoryName'] = 'Others'\n",
    "X3 = df3.drop(columns=['CategoryName'])\n",
    "y3 = df3['CategoryName']\n",
    "print(\"\\nModel 3:\")\n",
    "model_third = train_and_evaluate_model(X3, y3)\n",
    "\n",
    "# Model 4: Classify 'Ultrasound', 'Opthamlmic', 'Endocam'\n",
    "df4 = df4[df4['CategoryName'].isin(['Ultrasound', 'Opthamlmic', 'Endocam'])]\n",
    "X4 = df4.drop(columns=['CategoryName'])\n",
    "y4 = df4['CategoryName']\n",
    "print(\"\\nModel 4:\")\n",
    "model_last = train_and_evaluate_model(X4, y4)\n",
    "\n",
    "# Function to predict category\n",
    "def predict_category(input_data):\n",
    "    # Model 1\n",
    "    predicted_category = model_first.predict(input_data)\n",
    "    print(\"Predicted Category from Model 1:\", predicted_category)\n",
    "    if 'Others' in predicted_category:\n",
    "        # Model 2\n",
    "        predicted_category = model_sec.predict(input_data)\n",
    "        print(\"Predicted Category from Model 2:\", predicted_category)\n",
    "        if 'Others' in predicted_category:\n",
    "            # Model 3\n",
    "            predicted_category = model_third.predict(input_data)\n",
    "            print(\"Predicted Category from Model 3:\", predicted_category)\n",
    "            if 'Others' in predicted_category:\n",
    "                # Model 4\n",
    "                predicted_category = model_last.predict(input_data)\n",
    "                print(\"Final Predicted Category from Model 4:\", predicted_category)\n",
    "            else:\n",
    "                print(\"Final Predicted Category from Model 3:\", predicted_category)\n",
    "        else:\n",
    "            print(\"Final Predicted Category from Model 2:\", predicted_category)\n",
    "    else:\n",
    "        print(\"Final Predicted Category from Model 1:\", predicted_category)\n",
    "\n",
    "# Predict category for new input data\n",
    "new_input = [[14, 2, 4, 61]]  # Example input data\n",
    "predict_category(new_input)\n"
   ]
  },
  {
   "cell_type": "code",
   "execution_count": 37,
   "id": "551916dc-1bac-411d-b946-1973ad196637",
   "metadata": {},
   "outputs": [
    {
     "ename": "TypeError",
     "evalue": "string indices must be integers, not 'str'",
     "output_type": "error",
     "traceback": [
      "\u001b[1;31m---------------------------------------------------------------------------\u001b[0m",
      "\u001b[1;31mTypeError\u001b[0m                                 Traceback (most recent call last)",
      "Cell \u001b[1;32mIn[37], line 46\u001b[0m\n\u001b[0;32m     43\u001b[0m df1 \u001b[38;5;241m=\u001b[39m combine_categories(df)\n\u001b[0;32m     45\u001b[0m \u001b[38;5;66;03m# Calculate target instrument count\u001b[39;00m\n\u001b[1;32m---> 46\u001b[0m total_instrument_count \u001b[38;5;241m=\u001b[39m df1[df1[\u001b[38;5;124m'\u001b[39m\u001b[38;5;124mCategoryName\u001b[39m\u001b[38;5;124m'\u001b[39m] \u001b[38;5;241m==\u001b[39m \u001b[38;5;124m'\u001b[39m\u001b[38;5;124mInstrument\u001b[39m\u001b[38;5;124m'\u001b[39m]\u001b[38;5;241m.\u001b[39mshape[\u001b[38;5;241m0\u001b[39m]\n\u001b[0;32m     47\u001b[0m total_other_count \u001b[38;5;241m=\u001b[39m df1[df1[\u001b[38;5;124m'\u001b[39m\u001b[38;5;124mCategoryName\u001b[39m\u001b[38;5;124m'\u001b[39m] \u001b[38;5;241m==\u001b[39m \u001b[38;5;124m'\u001b[39m\u001b[38;5;124mOthers\u001b[39m\u001b[38;5;124m'\u001b[39m]\u001b[38;5;241m.\u001b[39mshape[\u001b[38;5;241m0\u001b[39m]\n\u001b[0;32m     48\u001b[0m target_instrument_count \u001b[38;5;241m=\u001b[39m (total_other_count \u001b[38;5;241m/\u001b[39m \u001b[38;5;241m0.4\u001b[39m) \u001b[38;5;241m*\u001b[39m \u001b[38;5;241m0.6\u001b[39m\n",
      "\u001b[1;31mTypeError\u001b[0m: string indices must be integers, not 'str'"
     ]
    }
   ],
   "source": [
    "import pandas as pd\n",
    "from sklearn.ensemble import RandomForestClassifier\n",
    "from sklearn.utils import resample\n",
    "from sklearn.metrics import accuracy_score\n",
    "\n",
    "# Read the data\n",
    "df = pd.read_excel(r'C:\\Users\\pawvaibh\\Downloads\\product classification.xlsx')\n",
    "\n",
    "# Function to preprocess data\n",
    "def preprocess_data(df):\n",
    "    df.drop_duplicates(inplace=True)\n",
    "    df.drop(columns=['CustomerId','ProductId', 'CustomerName', 'ProductName', 'SterilizationMethodName', 'MachineTypeName', 'ItemTypeName','SpecialtyName'], inplace=True)\n",
    "    return df\n",
    "\n",
    "# Combine categories except \"Instrument\" into one category called \"Others\"\n",
    "def combine_categories(df):\n",
    "    df1 = df.loc[~df['CategoryName'].isin(['Instrument']), 'CategoryName'] = 'Others'\n",
    "    return df1\n",
    "\n",
    "# Downsample Instrument category\n",
    "def downsample_instrument(df, target_instrument_count):\n",
    "    instrument_df = df[df['CategoryName'] == 'Instrument']\n",
    "    downsampled_instrument_df = resample(instrument_df, replace=False, n_samples=int(target_instrument_count), random_state=42)\n",
    "    final_df = pd.concat([downsampled_instrument_df, df[df['CategoryName'] == 'Others']])\n",
    "    return final_df\n",
    "\n",
    "# Train and evaluate RandomForestClassifier\n",
    "def train_and_evaluate_model(X, y):\n",
    "    model = RandomForestClassifier(random_state=42)\n",
    "    model.fit(X, y)\n",
    "    predictions = model.predict(X)\n",
    "    accuracy = accuracy_score(y, predictions)\n",
    "    print(\"Accuracy:\", accuracy)\n",
    "    return model, predictions\n",
    "\n",
    "# Preprocess the data\n",
    "df = preprocess_data(df.copy())\n",
    "# df2 = preprocess_data(df.copy())\n",
    "# df3 = preprocess_data(df.copy())\n",
    "# df4 = preprocess_data(df.copy())\n",
    "\n",
    "# Model 1: Classify Instrument vs. Others\n",
    "df1 = combine_categories(df)\n",
    "\n",
    "# Calculate target instrument count\n",
    "total_instrument_count = df1[df1['CategoryName'] == 'Instrument'].shape[0]\n",
    "total_other_count = df1[df1['CategoryName'] == 'Others'].shape[0]\n",
    "target_instrument_count = (total_other_count / 0.4) * 0.6\n",
    "\n",
    "df1 = downsample_instrument(df1, target_instrument_count)\n",
    "X1 = df1.drop(columns=['CategoryName'])\n",
    "y1 = df1['CategoryName']\n",
    "print(\"Model 1:\")\n",
    "model_first, _ = train_and_evaluate_model(X1, y1)\n",
    "\n",
    "# # Predict category for new input data\n",
    "# new_input = [[53, 1, 4, 40]]  # Example input data\n",
    "# predicted_category = model_first.predict(new_input)\n",
    "# print(\"Predicted Category from Model 1:\", predicted_category)\n",
    "print(df)\n",
    "if predicted_category == 'Others':\n",
    "    # Model 2: Classify Power System, Rigid Scope vs. Others\n",
    "    df2 = df[~df['CategoryName'].isin(['Instrument'])]\n",
    "    df2.loc[~df2['CategoryName'].isin(['Power System', 'Rigid Scope']), 'CategoryName'] = 'Others'\n",
    "    X2 = df2.drop(columns=['CategoryName'])\n",
    "    y2 = df2['CategoryName']\n",
    "    print(\"\\nModel 2:\")\n",
    "    model_sec, _ = train_and_evaluate_model(X2, y2)\n",
    "    \n",
    "    predicted_category = model_sec.predict(new_input)\n",
    "    print(\"Predicted Category from Model 2:\", predicted_category)\n",
    "    \n",
    "    if predicted_category == 'Others':\n",
    "        # Model 3: Classify Flexible Scope, Video Vs. Others\n",
    "        df3 = df[~df['CategoryName'].isin(['Instrument', 'Rigid Scope', 'Power System'])]\n",
    "        df3.loc[~df3['CategoryName'].isin(['Flexible Scope', 'Video']), 'CategoryName'] = 'Others'\n",
    "        X3 = df3.drop(columns=['CategoryName'])\n",
    "        y3 = df3['CategoryName']\n",
    "        print(\"\\nModel 3:\")\n",
    "        model_third, _ = train_and_evaluate_model(X3, y3)\n",
    "        \n",
    "        predicted_category = model_third.predict(new_input)\n",
    "        print(\"Final Predicted Category from Model 3:\", predicted_category)\n",
    "\n",
    "        if predicted_category == 'Others':\n",
    "            # Model 4: Classify 'Ultrasound', 'Opthamlmic', 'Endocam'\n",
    "            df4 = df[df['CategoryName'].isin(['Ultrasound', 'Opthamlmic', 'Endocam'])]\n",
    "            X4 = df4.drop(columns=['CategoryName'])\n",
    "            y4 = df4['CategoryName']\n",
    "            print(\"\\nModel 4:\")\n",
    "            model_last, _ = train_and_evaluate_model(X4, y4)\n",
    "        \n",
    "            predicted_category = model_last.predict(new_input)\n",
    "            print(\"Final Predicted Category from Model 4:\", predicted_category)\n",
    "\n",
    "        else:\n",
    "            print(\"Final Predicted Category from Model 3:\", predicted_category)\n",
    "    else:\n",
    "        print(\"Final Predicted Category from Model 2:\", predicted_category)\n",
    "else:\n",
    "    print(\"Final Predicted Category from Model 1:\", predicted_category)"
   ]
  },
  {
   "cell_type": "code",
   "execution_count": null,
   "id": "4664c88e-9a15-451d-9d44-0e5565a55cbd",
   "metadata": {},
   "outputs": [],
   "source": []
  }
 ],
 "metadata": {
  "kernelspec": {
   "display_name": "Python 3 (ipykernel)",
   "language": "python",
   "name": "python3"
  },
  "language_info": {
   "codemirror_mode": {
    "name": "ipython",
    "version": 3
   },
   "file_extension": ".py",
   "mimetype": "text/x-python",
   "name": "python",
   "nbconvert_exporter": "python",
   "pygments_lexer": "ipython3",
   "version": "3.11.7"
  }
 },
 "nbformat": 4,
 "nbformat_minor": 5
}
